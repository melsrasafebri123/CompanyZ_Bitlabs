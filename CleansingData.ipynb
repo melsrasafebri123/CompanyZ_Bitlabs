{
  "cells": [
    {
      "cell_type": "markdown",
      "metadata": {
        "id": "npk451Ev4aFg"
      },
      "source": [
        "##**LIBRARY**"
      ]
    },
    {
      "cell_type": "code",
      "execution_count": null,
      "metadata": {
        "colab": {
          "base_uri": "https://localhost:8080/"
        },
        "id": "l81WsbwHqURp",
        "outputId": "435263de-985b-4e18-82c4-d18791eb1b70"
      },
      "outputs": [
        {
          "output_type": "stream",
          "name": "stdout",
          "text": [
            "Drive already mounted at /content/drive; to attempt to forcibly remount, call drive.mount(\"/content/drive\", force_remount=True).\n"
          ]
        }
      ],
      "source": [
        "import pandas as pd\n",
        "import numpy as np\n",
        "import os\n",
        "from google.cloud import bigquery\n",
        "from google.colab import drive\n",
        "import matplotlib.pyplot as plt\n",
        "import seaborn as sns\n",
        "drive.mount('/content/drive')"
      ]
    },
    {
      "cell_type": "code",
      "execution_count": null,
      "metadata": {
        "id": "Fr4OUV-QqV9I"
      },
      "outputs": [],
      "source": [
        "#please adjust the path from your drive\n",
        "os.environ[\"GOOGLE_APPLICATION_CREDENTIALS\"]=\"/content/drive/MyDrive/db_bitlabs/private-keys.json\""
      ]
    },
    {
      "cell_type": "code",
      "execution_count": null,
      "metadata": {
        "colab": {
          "base_uri": "https://localhost:8080/"
        },
        "id": "TfX7xmC-mjv8",
        "outputId": "78462a1a-ee17-4d2c-ab75-4f17139c927f"
      },
      "outputs": [
        {
          "output_type": "stream",
          "name": "stdout",
          "text": [
            "Looking in indexes: https://pypi.org/simple, https://us-python.pkg.dev/colab-wheels/public/simple/\n",
            "Requirement already satisfied: pandasql in /usr/local/lib/python3.8/dist-packages (0.7.3)\n",
            "Requirement already satisfied: pandas in /usr/local/lib/python3.8/dist-packages (from pandasql) (1.3.5)\n",
            "Requirement already satisfied: sqlalchemy in /usr/local/lib/python3.8/dist-packages (from pandasql) (1.4.44)\n",
            "Requirement already satisfied: numpy in /usr/local/lib/python3.8/dist-packages (from pandasql) (1.21.6)\n",
            "Requirement already satisfied: python-dateutil>=2.7.3 in /usr/local/lib/python3.8/dist-packages (from pandas->pandasql) (2.8.2)\n",
            "Requirement already satisfied: pytz>=2017.3 in /usr/local/lib/python3.8/dist-packages (from pandas->pandasql) (2022.6)\n",
            "Requirement already satisfied: six>=1.5 in /usr/local/lib/python3.8/dist-packages (from python-dateutil>=2.7.3->pandas->pandasql) (1.15.0)\n",
            "Requirement already satisfied: greenlet!=0.4.17 in /usr/local/lib/python3.8/dist-packages (from sqlalchemy->pandasql) (2.0.1)\n"
          ]
        }
      ],
      "source": [
        "!pip install pandasql\n",
        "import pandasql\n",
        "\n",
        "from pandasql import sqldf \n",
        "sql_run = lambda q: sqldf(q, globals())"
      ]
    },
    {
      "cell_type": "markdown",
      "metadata": {
        "id": "A58L9p_V4eYM"
      },
      "source": [
        "##**SQL**"
      ]
    },
    {
      "cell_type": "code",
      "execution_count": null,
      "metadata": {
        "id": "mkeIx5DEq2Am",
        "outputId": "40fc47bc-2975-432a-8fa4-eb28e1542202",
        "colab": {
          "base_uri": "https://localhost:8080/",
          "height": 235
        }
      },
      "outputs": [
        {
          "output_type": "error",
          "ename": "NameError",
          "evalue": "ignored",
          "traceback": [
            "\u001b[0;31m---------------------------------------------------------------------------\u001b[0m",
            "\u001b[0;31mNameError\u001b[0m                                 Traceback (most recent call last)",
            "\u001b[0;32m<ipython-input-1-d28c1dc15d79>\u001b[0m in \u001b[0;36m<module>\u001b[0;34m\u001b[0m\n\u001b[0;32m----> 1\u001b[0;31m \u001b[0mbqclient\u001b[0m \u001b[0;34m=\u001b[0m \u001b[0mbigquery\u001b[0m\u001b[0;34m.\u001b[0m\u001b[0mClient\u001b[0m\u001b[0;34m(\u001b[0m\u001b[0;34m)\u001b[0m\u001b[0;34m\u001b[0m\u001b[0;34m\u001b[0m\u001b[0m\n\u001b[0m\u001b[1;32m      2\u001b[0m \u001b[0;34m\u001b[0m\u001b[0m\n\u001b[1;32m      3\u001b[0m \u001b[0;31m# Download query results.\u001b[0m\u001b[0;34m\u001b[0m\u001b[0;34m\u001b[0m\u001b[0;34m\u001b[0m\u001b[0m\n\u001b[1;32m      4\u001b[0m query_string = \"\"\"\n\u001b[1;32m      5\u001b[0m \u001b[0mSELECT\u001b[0m \u001b[0;34m*\u001b[0m\u001b[0;34m,\u001b[0m \u001b[0;34m(\u001b[0m\u001b[0mprice\u001b[0m \u001b[0;34m*\u001b[0m \u001b[0mproduct_quantity\u001b[0m\u001b[0;34m)\u001b[0m \u001b[0;32mas\u001b[0m \u001b[0mgmv\u001b[0m\u001b[0;34m,\u001b[0m\u001b[0;34m\u001b[0m\u001b[0;34m\u001b[0m\u001b[0m\n",
            "\u001b[0;31mNameError\u001b[0m: name 'bigquery' is not defined"
          ]
        }
      ],
      "source": [
        "bqclient = bigquery.Client()\n",
        "\n",
        "# Download query results.\n",
        "query_string = \"\"\"\n",
        "SELECT *, (price * product_quantity) as gmv,\n",
        "  ((price * product_quantity)*percentage_commission) as revenue \n",
        "  FROM `bitlabs-dab.G_CID_01.ralali_transactions_Q1_2018`\n",
        "UNION ALL\n",
        "SELECT *, (price * product_quantity) as gmv,\n",
        "  ((price * product_quantity)*percentage_commission) as revenue \n",
        "  FROM `bitlabs-dab.G_CID_01.ralali_transactions_Q1_2019`\n",
        "UNION ALL\n",
        "SELECT *, (price * product_quantity) as gmv,\n",
        "  ((price * product_quantity)*percentage_commission) as revenue \n",
        "  FROM `bitlabs-dab.G_CID_01.ralali_transactions_Q1_2020`\n",
        "\"\"\"\n",
        "\n",
        "df = (\n",
        "    bqclient.query(query_string)\n",
        "    .result()\n",
        "    .to_dataframe(\n",
        "        # Optionally, explicitly request to use the BigQuery Storage API. As of\n",
        "        # google-cloud-bigquery version 1.26.0 and above, the BigQuery Storage\n",
        "        # API is used by default.\n",
        "    )\n",
        ")"
      ]
    },
    {
      "cell_type": "markdown",
      "metadata": {
        "id": "gfQwHGou4jPm"
      },
      "source": [
        "## Dataframe (Before Cleansing)"
      ]
    },
    {
      "cell_type": "code",
      "execution_count": null,
      "metadata": {
        "colab": {
          "base_uri": "https://localhost:8080/"
        },
        "id": "sHs7G_QVrNJf",
        "outputId": "82546f42-d06e-4a55-9b46-48dfc43c9cab"
      },
      "outputs": [
        {
          "output_type": "execute_result",
          "data": {
            "text/plain": [
              "                                                order_id  \\\n",
              "0      vWtd1y0/6huGN2/XeVvDsuZQoDwatiNmUATDyiR+T176ru...   \n",
              "1      hYo6AokZ1bqrZlrc/eMvqqaODQGiv5/TmUFtzkYTuY5jDZ...   \n",
              "2      aZYLoHJEF14rPOHWczVrCzZHEbwv72w9yVEOtCVNQoeA3+...   \n",
              "3      aYEM8mBNtgtgtwiXy8o7KoVr7dD8S6remri7NnvTgFprLo...   \n",
              "4      fLtNp9wUwKF9DdhOTfsq9mBjgBiPGTYdIVIthaxC5klNh8...   \n",
              "...                                                  ...   \n",
              "56994  hMNVJu7pe/56r9IMer9EOhMaspNepjbOjY+yzwuxhbyMeX...   \n",
              "56995  Kyr1swAjeR37xIsuF5FDUbp7QtkHWpbNByLa/Smk4It3Jv...   \n",
              "56996  vUVI5D2/Fkw+uJCP/prvGKQR7pS6ysgu+YBpy7XKD0LDfI...   \n",
              "56997  9l6zCubPWS1YrZp00WRBFOxRqWaqOid00L+C28qt8PhjEj...   \n",
              "56998  0b8ttj22Y4JOZSMxrgXb0E4pd5MD7e+Pmy8Zk5rrK5NssN...   \n",
              "\n",
              "                                          oder_detail_id  \\\n",
              "0      5F+Im4Nc+NUSZqLbx+X1eDrweIh5M0spYtS/UdcVA7aaJ+...   \n",
              "1      X1hbQ/Sk8go6uIIMeGCtodTT1RHe747Bfix4NRcsVSMVMw...   \n",
              "2      GR22NQrEEEj8H0xYK5+06Ivz/pw7kkM6PRfduolAeb2waS...   \n",
              "3      I224XW2xDNCFAAe6UMFftC9alJNKABfKg9GKaNlLaYKyJI...   \n",
              "4      4o+vKqCoSfwwEga/7WeHhYwpvRT9NN7G+u2yhnQuAiv+72...   \n",
              "...                                                  ...   \n",
              "56994  ubvMK0JvvfzZqdH7NPiZDJfMtaWZF0JMKJ0flm/n/BrYXj...   \n",
              "56995  GEn8zsO7m+zvxgj7NUqs9HBwHFOfpA+YY1sbpRq+r5X12f...   \n",
              "56996  wgTA6Nj4X0Sg+468a/zs6g41zZhMOzhScQA4z9kkRSJ8Mt...   \n",
              "56997  r3AHlSaQGMTk5zYJsU95OiO4BpjpQqupMgsDqux6QOULFU...   \n",
              "56998  K0G2ddYGBXc+y80wtiUDrEvnKsYgwjntEVvmtOvFCzwYkN...   \n",
              "\n",
              "                 order_datetime  \\\n",
              "0     2018-01-24 23:08:46+00:00   \n",
              "1     2018-03-12 15:18:13+00:00   \n",
              "2     2018-02-01 20:16:19+00:00   \n",
              "3     2018-01-15 15:49:58+00:00   \n",
              "4     2018-01-15 15:01:33+00:00   \n",
              "...                         ...   \n",
              "56994 2020-03-17 08:11:07+00:00   \n",
              "56995 2020-01-28 00:57:59+00:00   \n",
              "56996 2020-01-28 00:51:48+00:00   \n",
              "56997 2020-03-19 21:44:49+00:00   \n",
              "56998 2020-01-02 14:18:46+00:00   \n",
              "\n",
              "                                                 item_id  \\\n",
              "0      FiwEDZtpOyYWv3+YJlwOSL3tBRSsNNNNDddisUbym/nJPF...   \n",
              "1      GYSx7Gu3Wy/DC3c/QEHBotPs/OIE1QDfKwTyWqEHhb626J...   \n",
              "2      GYSx7Gu3Wy/DC3c/QEHBotPs/OIE1QDfKwTyWqEHhb626J...   \n",
              "3      GYSx7Gu3Wy/DC3c/QEHBotPs/OIE1QDfKwTyWqEHhb626J...   \n",
              "4      GYSx7Gu3Wy/DC3c/QEHBotPs/OIE1QDfKwTyWqEHhb626J...   \n",
              "...                                                  ...   \n",
              "56994  qmY+fo95UnBw5KEdLm+TUDGqv9YHywZCrCDPqFHXNMmO3y...   \n",
              "56995  qmY+fo95UnBw5KEdLm+TUDGqv9YHywZCrCDPqFHXNMmO3y...   \n",
              "56996  qmY+fo95UnBw5KEdLm+TUDGqv9YHywZCrCDPqFHXNMmO3y...   \n",
              "56997  e8ZS0UrAzdLUpfXhh33Xx3UUWULCWDHNWMe0h04Qi6SBzT...   \n",
              "56998  Y4yb++f39blRbkJpr0fnt0U4nguBFWqMTXhcNAH73+PqJe...   \n",
              "\n",
              "                                        item_name  \\\n",
              "0      IC LOCK Alarm Sepeda Motor Tipe 1L 1 Sandi   \n",
              "1                 Sleeping Bag Ultralight Packing   \n",
              "2                 Sleeping Bag Ultralight Packing   \n",
              "3                 Sleeping Bag Ultralight Packing   \n",
              "4                 Sleeping Bag Ultralight Packing   \n",
              "...                                           ...   \n",
              "56994             LENCANA MERAH Tepung Terigu 1kg   \n",
              "56995             LENCANA MERAH Tepung Terigu 1kg   \n",
              "56996             LENCANA MERAH Tepung Terigu 1kg   \n",
              "56997        DJI SAM SOE 234 Magnum Mild Blue 16s   \n",
              "56998                            POPSO Bakso  Cup   \n",
              "\n",
              "                          cat_name     price  product_quantity  \\\n",
              "0      Automotive & Transportation   70000.0                11   \n",
              "1          Beauty, Sport & Fashion  106900.0                11   \n",
              "2          Beauty, Sport & Fashion  106900.0                11   \n",
              "3          Beauty, Sport & Fashion  106900.0                11   \n",
              "4          Beauty, Sport & Fashion  106900.0                11   \n",
              "...                            ...       ...               ...   \n",
              "56994           Agriculture & Food   20000.0                11   \n",
              "56995           Agriculture & Food   20000.0                11   \n",
              "56996           Agriculture & Food   20000.0                11   \n",
              "56997           Agriculture & Food   29000.0                11   \n",
              "56998           Agriculture & Food   32000.0                25   \n",
              "\n",
              "       percentage_commission         payment_method  ...  \\\n",
              "0                        0.0      BCA Bank Transfer  ...   \n",
              "1                        0.0      BCA Bank Transfer  ...   \n",
              "2                        0.0  Mandiri Bank Transfer  ...   \n",
              "3                        0.0      BNI Bank Transfer  ...   \n",
              "4                        0.0            Credit Card  ...   \n",
              "...                      ...                    ...  ...   \n",
              "56994                    3.0          Ralali Wallet  ...   \n",
              "56995                    3.0          Ralali Wallet  ...   \n",
              "56996                    3.0          Ralali Wallet  ...   \n",
              "56997                    3.0          Ralali Wallet  ...   \n",
              "56998                    2.5            Credit Card  ...   \n",
              "\n",
              "              received_datetime          settled_datetime  \\\n",
              "0     2018-01-31 22:05:59+00:00 2018-02-02 11:11:11+00:00   \n",
              "1     2018-03-17 17:33:12+00:00 2018-03-19 17:49:29+00:00   \n",
              "2     2018-02-03 13:48:44+00:00 2018-02-05 11:37:35+00:00   \n",
              "3     2018-01-22 05:12:20+00:00 2018-01-23 10:55:22+00:00   \n",
              "4     2018-01-16 23:00:51+00:00 2018-01-18 17:50:05+00:00   \n",
              "...                         ...                       ...   \n",
              "56994 2020-03-17 08:12:00+00:00 2020-03-18 19:16:18+00:00   \n",
              "56995 2020-02-11 00:38:55+00:00 2020-02-12 06:22:14+00:00   \n",
              "56996 2020-02-11 00:37:00+00:00 2020-02-12 06:22:14+00:00   \n",
              "56997 2020-03-19 22:07:14+00:00 2020-03-20 15:17:44+00:00   \n",
              "56998                       NaT                       NaT   \n",
              "\n",
              "                                                buyer_id  \\\n",
              "0      4bS8qFKVzWcs1YbiN1AH69caS28RLKfoD9Sw5mhywcKLRy...   \n",
              "1      gIMTtuVLpqhxr1vGQUX7z/9BsLfyuIEsw9adNH5RFCmJoJ...   \n",
              "2      iAM0QYDk/thCNhc2NLA5XjAH/wCIcbwgWXK3DpWRfOiohn...   \n",
              "3      VNegkSBXo6FoVwuapctbPQhm52bDXytLzTfg4jeLYvUYZC...   \n",
              "4      u+5n7OUaW4Az4ltUSf1kdFhb7aAbCYuQyNDuEDAQNucW5x...   \n",
              "...                                                  ...   \n",
              "56994  XS4ZXBjDD6JvT8hoJkwLFFWDEzJRDxfjXEngv1L5OstM7e...   \n",
              "56995  yY7Y1kBC0st9xepDZscxyihC+92wnAgt7Su6zegHLKgmRs...   \n",
              "56996  ng21FCXnAWPBVkw3e+YokohKEiKwUeMP72oa+NK03SZkpO...   \n",
              "56997  t+v4QgAgyKqZXSdxZgvhav7+7rtoGQHNRc5NXw4WYklfLA...   \n",
              "56998  vBQDuU8e5XvuPIXHvD7m4dOdZjSCdIBzWhYjRLeVYkahUN...   \n",
              "\n",
              "                                               seller_id order_source  \\\n",
              "0      +4nL+1ptdvhVGUOs4XRPWrfX7udjVZHeHD5QumR31VzOzx...      website   \n",
              "1      +7J29u1/MoqIdao5nXk+a154wh0xn5yHpNAlO+cMMagBg3...      website   \n",
              "2      +7J29u1/MoqIdao5nXk+a154wh0xn5yHpNAlO+cMMagBg3...      website   \n",
              "3      +7J29u1/MoqIdao5nXk+a154wh0xn5yHpNAlO+cMMagBg3...      website   \n",
              "4      +7J29u1/MoqIdao5nXk+a154wh0xn5yHpNAlO+cMMagBg3...      website   \n",
              "...                                                  ...          ...   \n",
              "56994  zur/s7B3E92bxS8FkBL9Dx6HA7lKKWGGzSq1qu4HPScnu9...      Android   \n",
              "56995  zur/s7B3E92bxS8FkBL9Dx6HA7lKKWGGzSq1qu4HPScnu9...      Android   \n",
              "56996  zur/s7B3E92bxS8FkBL9Dx6HA7lKKWGGzSq1qu4HPScnu9...      Android   \n",
              "56997  zur/s7B3E92bxS8FkBL9Dx6HA7lKKWGGzSq1qu4HPScnu9...      Android   \n",
              "56998  zx1OMM/JHQ1SNnRi9hsIvVkI1E03RE6dcgWrx9yKbVOCGR...      website   \n",
              "\n",
              "      buyer_province_name    buyer_city_name      logistic_name        gmv  \\\n",
              "0                  Banten          Tangerang        SAP Express   770000.0   \n",
              "1              Jawa Barat            Bandung               TIKI  1175900.0   \n",
              "2             Dki Jakarta      Jakarta Pusat               TIKI  1175900.0   \n",
              "3                  Banten          Tangerang               TIKI  1175900.0   \n",
              "4             Dki Jakarta      Jakarta Barat                JNE  1175900.0   \n",
              "...                   ...                ...                ...        ...   \n",
              "56994      Kepulauan Riau          Pekanbaru  Free Ongkir Lokal   220000.0   \n",
              "56995                Riau          Pekanbaru  Free Ongkir Lokal   220000.0   \n",
              "56996                Riau          Pekanbaru  Free Ongkir Lokal   220000.0   \n",
              "56997      Kepulauan Riau          Pekanbaru  Free Ongkir Lokal   319000.0   \n",
              "56998              Banten  Tangerang Selatan       Ralali Kargo   800000.0   \n",
              "\n",
              "         revenue  \n",
              "0            0.0  \n",
              "1            0.0  \n",
              "2            0.0  \n",
              "3            0.0  \n",
              "4            0.0  \n",
              "...          ...  \n",
              "56994   660000.0  \n",
              "56995   660000.0  \n",
              "56996   660000.0  \n",
              "56997   957000.0  \n",
              "56998  2000000.0  \n",
              "\n",
              "[56999 rows x 23 columns]"
            ],
            "text/html": [
              "\n",
              "  <div id=\"df-89299d46-bbdf-47c8-9cb3-fdbe3926e4c2\">\n",
              "    <div class=\"colab-df-container\">\n",
              "      <div>\n",
              "<style scoped>\n",
              "    .dataframe tbody tr th:only-of-type {\n",
              "        vertical-align: middle;\n",
              "    }\n",
              "\n",
              "    .dataframe tbody tr th {\n",
              "        vertical-align: top;\n",
              "    }\n",
              "\n",
              "    .dataframe thead th {\n",
              "        text-align: right;\n",
              "    }\n",
              "</style>\n",
              "<table border=\"1\" class=\"dataframe\">\n",
              "  <thead>\n",
              "    <tr style=\"text-align: right;\">\n",
              "      <th></th>\n",
              "      <th>order_id</th>\n",
              "      <th>oder_detail_id</th>\n",
              "      <th>order_datetime</th>\n",
              "      <th>item_id</th>\n",
              "      <th>item_name</th>\n",
              "      <th>cat_name</th>\n",
              "      <th>price</th>\n",
              "      <th>product_quantity</th>\n",
              "      <th>percentage_commission</th>\n",
              "      <th>payment_method</th>\n",
              "      <th>...</th>\n",
              "      <th>received_datetime</th>\n",
              "      <th>settled_datetime</th>\n",
              "      <th>buyer_id</th>\n",
              "      <th>seller_id</th>\n",
              "      <th>order_source</th>\n",
              "      <th>buyer_province_name</th>\n",
              "      <th>buyer_city_name</th>\n",
              "      <th>logistic_name</th>\n",
              "      <th>gmv</th>\n",
              "      <th>revenue</th>\n",
              "    </tr>\n",
              "  </thead>\n",
              "  <tbody>\n",
              "    <tr>\n",
              "      <th>0</th>\n",
              "      <td>vWtd1y0/6huGN2/XeVvDsuZQoDwatiNmUATDyiR+T176ru...</td>\n",
              "      <td>5F+Im4Nc+NUSZqLbx+X1eDrweIh5M0spYtS/UdcVA7aaJ+...</td>\n",
              "      <td>2018-01-24 23:08:46+00:00</td>\n",
              "      <td>FiwEDZtpOyYWv3+YJlwOSL3tBRSsNNNNDddisUbym/nJPF...</td>\n",
              "      <td>IC LOCK Alarm Sepeda Motor Tipe 1L 1 Sandi</td>\n",
              "      <td>Automotive &amp; Transportation</td>\n",
              "      <td>70000.0</td>\n",
              "      <td>11</td>\n",
              "      <td>0.0</td>\n",
              "      <td>BCA Bank Transfer</td>\n",
              "      <td>...</td>\n",
              "      <td>2018-01-31 22:05:59+00:00</td>\n",
              "      <td>2018-02-02 11:11:11+00:00</td>\n",
              "      <td>4bS8qFKVzWcs1YbiN1AH69caS28RLKfoD9Sw5mhywcKLRy...</td>\n",
              "      <td>+4nL+1ptdvhVGUOs4XRPWrfX7udjVZHeHD5QumR31VzOzx...</td>\n",
              "      <td>website</td>\n",
              "      <td>Banten</td>\n",
              "      <td>Tangerang</td>\n",
              "      <td>SAP Express</td>\n",
              "      <td>770000.0</td>\n",
              "      <td>0.0</td>\n",
              "    </tr>\n",
              "    <tr>\n",
              "      <th>1</th>\n",
              "      <td>hYo6AokZ1bqrZlrc/eMvqqaODQGiv5/TmUFtzkYTuY5jDZ...</td>\n",
              "      <td>X1hbQ/Sk8go6uIIMeGCtodTT1RHe747Bfix4NRcsVSMVMw...</td>\n",
              "      <td>2018-03-12 15:18:13+00:00</td>\n",
              "      <td>GYSx7Gu3Wy/DC3c/QEHBotPs/OIE1QDfKwTyWqEHhb626J...</td>\n",
              "      <td>Sleeping Bag Ultralight Packing</td>\n",
              "      <td>Beauty, Sport &amp; Fashion</td>\n",
              "      <td>106900.0</td>\n",
              "      <td>11</td>\n",
              "      <td>0.0</td>\n",
              "      <td>BCA Bank Transfer</td>\n",
              "      <td>...</td>\n",
              "      <td>2018-03-17 17:33:12+00:00</td>\n",
              "      <td>2018-03-19 17:49:29+00:00</td>\n",
              "      <td>gIMTtuVLpqhxr1vGQUX7z/9BsLfyuIEsw9adNH5RFCmJoJ...</td>\n",
              "      <td>+7J29u1/MoqIdao5nXk+a154wh0xn5yHpNAlO+cMMagBg3...</td>\n",
              "      <td>website</td>\n",
              "      <td>Jawa Barat</td>\n",
              "      <td>Bandung</td>\n",
              "      <td>TIKI</td>\n",
              "      <td>1175900.0</td>\n",
              "      <td>0.0</td>\n",
              "    </tr>\n",
              "    <tr>\n",
              "      <th>2</th>\n",
              "      <td>aZYLoHJEF14rPOHWczVrCzZHEbwv72w9yVEOtCVNQoeA3+...</td>\n",
              "      <td>GR22NQrEEEj8H0xYK5+06Ivz/pw7kkM6PRfduolAeb2waS...</td>\n",
              "      <td>2018-02-01 20:16:19+00:00</td>\n",
              "      <td>GYSx7Gu3Wy/DC3c/QEHBotPs/OIE1QDfKwTyWqEHhb626J...</td>\n",
              "      <td>Sleeping Bag Ultralight Packing</td>\n",
              "      <td>Beauty, Sport &amp; Fashion</td>\n",
              "      <td>106900.0</td>\n",
              "      <td>11</td>\n",
              "      <td>0.0</td>\n",
              "      <td>Mandiri Bank Transfer</td>\n",
              "      <td>...</td>\n",
              "      <td>2018-02-03 13:48:44+00:00</td>\n",
              "      <td>2018-02-05 11:37:35+00:00</td>\n",
              "      <td>iAM0QYDk/thCNhc2NLA5XjAH/wCIcbwgWXK3DpWRfOiohn...</td>\n",
              "      <td>+7J29u1/MoqIdao5nXk+a154wh0xn5yHpNAlO+cMMagBg3...</td>\n",
              "      <td>website</td>\n",
              "      <td>Dki Jakarta</td>\n",
              "      <td>Jakarta Pusat</td>\n",
              "      <td>TIKI</td>\n",
              "      <td>1175900.0</td>\n",
              "      <td>0.0</td>\n",
              "    </tr>\n",
              "    <tr>\n",
              "      <th>3</th>\n",
              "      <td>aYEM8mBNtgtgtwiXy8o7KoVr7dD8S6remri7NnvTgFprLo...</td>\n",
              "      <td>I224XW2xDNCFAAe6UMFftC9alJNKABfKg9GKaNlLaYKyJI...</td>\n",
              "      <td>2018-01-15 15:49:58+00:00</td>\n",
              "      <td>GYSx7Gu3Wy/DC3c/QEHBotPs/OIE1QDfKwTyWqEHhb626J...</td>\n",
              "      <td>Sleeping Bag Ultralight Packing</td>\n",
              "      <td>Beauty, Sport &amp; Fashion</td>\n",
              "      <td>106900.0</td>\n",
              "      <td>11</td>\n",
              "      <td>0.0</td>\n",
              "      <td>BNI Bank Transfer</td>\n",
              "      <td>...</td>\n",
              "      <td>2018-01-22 05:12:20+00:00</td>\n",
              "      <td>2018-01-23 10:55:22+00:00</td>\n",
              "      <td>VNegkSBXo6FoVwuapctbPQhm52bDXytLzTfg4jeLYvUYZC...</td>\n",
              "      <td>+7J29u1/MoqIdao5nXk+a154wh0xn5yHpNAlO+cMMagBg3...</td>\n",
              "      <td>website</td>\n",
              "      <td>Banten</td>\n",
              "      <td>Tangerang</td>\n",
              "      <td>TIKI</td>\n",
              "      <td>1175900.0</td>\n",
              "      <td>0.0</td>\n",
              "    </tr>\n",
              "    <tr>\n",
              "      <th>4</th>\n",
              "      <td>fLtNp9wUwKF9DdhOTfsq9mBjgBiPGTYdIVIthaxC5klNh8...</td>\n",
              "      <td>4o+vKqCoSfwwEga/7WeHhYwpvRT9NN7G+u2yhnQuAiv+72...</td>\n",
              "      <td>2018-01-15 15:01:33+00:00</td>\n",
              "      <td>GYSx7Gu3Wy/DC3c/QEHBotPs/OIE1QDfKwTyWqEHhb626J...</td>\n",
              "      <td>Sleeping Bag Ultralight Packing</td>\n",
              "      <td>Beauty, Sport &amp; Fashion</td>\n",
              "      <td>106900.0</td>\n",
              "      <td>11</td>\n",
              "      <td>0.0</td>\n",
              "      <td>Credit Card</td>\n",
              "      <td>...</td>\n",
              "      <td>2018-01-16 23:00:51+00:00</td>\n",
              "      <td>2018-01-18 17:50:05+00:00</td>\n",
              "      <td>u+5n7OUaW4Az4ltUSf1kdFhb7aAbCYuQyNDuEDAQNucW5x...</td>\n",
              "      <td>+7J29u1/MoqIdao5nXk+a154wh0xn5yHpNAlO+cMMagBg3...</td>\n",
              "      <td>website</td>\n",
              "      <td>Dki Jakarta</td>\n",
              "      <td>Jakarta Barat</td>\n",
              "      <td>JNE</td>\n",
              "      <td>1175900.0</td>\n",
              "      <td>0.0</td>\n",
              "    </tr>\n",
              "    <tr>\n",
              "      <th>...</th>\n",
              "      <td>...</td>\n",
              "      <td>...</td>\n",
              "      <td>...</td>\n",
              "      <td>...</td>\n",
              "      <td>...</td>\n",
              "      <td>...</td>\n",
              "      <td>...</td>\n",
              "      <td>...</td>\n",
              "      <td>...</td>\n",
              "      <td>...</td>\n",
              "      <td>...</td>\n",
              "      <td>...</td>\n",
              "      <td>...</td>\n",
              "      <td>...</td>\n",
              "      <td>...</td>\n",
              "      <td>...</td>\n",
              "      <td>...</td>\n",
              "      <td>...</td>\n",
              "      <td>...</td>\n",
              "      <td>...</td>\n",
              "      <td>...</td>\n",
              "    </tr>\n",
              "    <tr>\n",
              "      <th>56994</th>\n",
              "      <td>hMNVJu7pe/56r9IMer9EOhMaspNepjbOjY+yzwuxhbyMeX...</td>\n",
              "      <td>ubvMK0JvvfzZqdH7NPiZDJfMtaWZF0JMKJ0flm/n/BrYXj...</td>\n",
              "      <td>2020-03-17 08:11:07+00:00</td>\n",
              "      <td>qmY+fo95UnBw5KEdLm+TUDGqv9YHywZCrCDPqFHXNMmO3y...</td>\n",
              "      <td>LENCANA MERAH Tepung Terigu 1kg</td>\n",
              "      <td>Agriculture &amp; Food</td>\n",
              "      <td>20000.0</td>\n",
              "      <td>11</td>\n",
              "      <td>3.0</td>\n",
              "      <td>Ralali Wallet</td>\n",
              "      <td>...</td>\n",
              "      <td>2020-03-17 08:12:00+00:00</td>\n",
              "      <td>2020-03-18 19:16:18+00:00</td>\n",
              "      <td>XS4ZXBjDD6JvT8hoJkwLFFWDEzJRDxfjXEngv1L5OstM7e...</td>\n",
              "      <td>zur/s7B3E92bxS8FkBL9Dx6HA7lKKWGGzSq1qu4HPScnu9...</td>\n",
              "      <td>Android</td>\n",
              "      <td>Kepulauan Riau</td>\n",
              "      <td>Pekanbaru</td>\n",
              "      <td>Free Ongkir Lokal</td>\n",
              "      <td>220000.0</td>\n",
              "      <td>660000.0</td>\n",
              "    </tr>\n",
              "    <tr>\n",
              "      <th>56995</th>\n",
              "      <td>Kyr1swAjeR37xIsuF5FDUbp7QtkHWpbNByLa/Smk4It3Jv...</td>\n",
              "      <td>GEn8zsO7m+zvxgj7NUqs9HBwHFOfpA+YY1sbpRq+r5X12f...</td>\n",
              "      <td>2020-01-28 00:57:59+00:00</td>\n",
              "      <td>qmY+fo95UnBw5KEdLm+TUDGqv9YHywZCrCDPqFHXNMmO3y...</td>\n",
              "      <td>LENCANA MERAH Tepung Terigu 1kg</td>\n",
              "      <td>Agriculture &amp; Food</td>\n",
              "      <td>20000.0</td>\n",
              "      <td>11</td>\n",
              "      <td>3.0</td>\n",
              "      <td>Ralali Wallet</td>\n",
              "      <td>...</td>\n",
              "      <td>2020-02-11 00:38:55+00:00</td>\n",
              "      <td>2020-02-12 06:22:14+00:00</td>\n",
              "      <td>yY7Y1kBC0st9xepDZscxyihC+92wnAgt7Su6zegHLKgmRs...</td>\n",
              "      <td>zur/s7B3E92bxS8FkBL9Dx6HA7lKKWGGzSq1qu4HPScnu9...</td>\n",
              "      <td>Android</td>\n",
              "      <td>Riau</td>\n",
              "      <td>Pekanbaru</td>\n",
              "      <td>Free Ongkir Lokal</td>\n",
              "      <td>220000.0</td>\n",
              "      <td>660000.0</td>\n",
              "    </tr>\n",
              "    <tr>\n",
              "      <th>56996</th>\n",
              "      <td>vUVI5D2/Fkw+uJCP/prvGKQR7pS6ysgu+YBpy7XKD0LDfI...</td>\n",
              "      <td>wgTA6Nj4X0Sg+468a/zs6g41zZhMOzhScQA4z9kkRSJ8Mt...</td>\n",
              "      <td>2020-01-28 00:51:48+00:00</td>\n",
              "      <td>qmY+fo95UnBw5KEdLm+TUDGqv9YHywZCrCDPqFHXNMmO3y...</td>\n",
              "      <td>LENCANA MERAH Tepung Terigu 1kg</td>\n",
              "      <td>Agriculture &amp; Food</td>\n",
              "      <td>20000.0</td>\n",
              "      <td>11</td>\n",
              "      <td>3.0</td>\n",
              "      <td>Ralali Wallet</td>\n",
              "      <td>...</td>\n",
              "      <td>2020-02-11 00:37:00+00:00</td>\n",
              "      <td>2020-02-12 06:22:14+00:00</td>\n",
              "      <td>ng21FCXnAWPBVkw3e+YokohKEiKwUeMP72oa+NK03SZkpO...</td>\n",
              "      <td>zur/s7B3E92bxS8FkBL9Dx6HA7lKKWGGzSq1qu4HPScnu9...</td>\n",
              "      <td>Android</td>\n",
              "      <td>Riau</td>\n",
              "      <td>Pekanbaru</td>\n",
              "      <td>Free Ongkir Lokal</td>\n",
              "      <td>220000.0</td>\n",
              "      <td>660000.0</td>\n",
              "    </tr>\n",
              "    <tr>\n",
              "      <th>56997</th>\n",
              "      <td>9l6zCubPWS1YrZp00WRBFOxRqWaqOid00L+C28qt8PhjEj...</td>\n",
              "      <td>r3AHlSaQGMTk5zYJsU95OiO4BpjpQqupMgsDqux6QOULFU...</td>\n",
              "      <td>2020-03-19 21:44:49+00:00</td>\n",
              "      <td>e8ZS0UrAzdLUpfXhh33Xx3UUWULCWDHNWMe0h04Qi6SBzT...</td>\n",
              "      <td>DJI SAM SOE 234 Magnum Mild Blue 16s</td>\n",
              "      <td>Agriculture &amp; Food</td>\n",
              "      <td>29000.0</td>\n",
              "      <td>11</td>\n",
              "      <td>3.0</td>\n",
              "      <td>Ralali Wallet</td>\n",
              "      <td>...</td>\n",
              "      <td>2020-03-19 22:07:14+00:00</td>\n",
              "      <td>2020-03-20 15:17:44+00:00</td>\n",
              "      <td>t+v4QgAgyKqZXSdxZgvhav7+7rtoGQHNRc5NXw4WYklfLA...</td>\n",
              "      <td>zur/s7B3E92bxS8FkBL9Dx6HA7lKKWGGzSq1qu4HPScnu9...</td>\n",
              "      <td>Android</td>\n",
              "      <td>Kepulauan Riau</td>\n",
              "      <td>Pekanbaru</td>\n",
              "      <td>Free Ongkir Lokal</td>\n",
              "      <td>319000.0</td>\n",
              "      <td>957000.0</td>\n",
              "    </tr>\n",
              "    <tr>\n",
              "      <th>56998</th>\n",
              "      <td>0b8ttj22Y4JOZSMxrgXb0E4pd5MD7e+Pmy8Zk5rrK5NssN...</td>\n",
              "      <td>K0G2ddYGBXc+y80wtiUDrEvnKsYgwjntEVvmtOvFCzwYkN...</td>\n",
              "      <td>2020-01-02 14:18:46+00:00</td>\n",
              "      <td>Y4yb++f39blRbkJpr0fnt0U4nguBFWqMTXhcNAH73+PqJe...</td>\n",
              "      <td>POPSO Bakso  Cup</td>\n",
              "      <td>Agriculture &amp; Food</td>\n",
              "      <td>32000.0</td>\n",
              "      <td>25</td>\n",
              "      <td>2.5</td>\n",
              "      <td>Credit Card</td>\n",
              "      <td>...</td>\n",
              "      <td>NaT</td>\n",
              "      <td>NaT</td>\n",
              "      <td>vBQDuU8e5XvuPIXHvD7m4dOdZjSCdIBzWhYjRLeVYkahUN...</td>\n",
              "      <td>zx1OMM/JHQ1SNnRi9hsIvVkI1E03RE6dcgWrx9yKbVOCGR...</td>\n",
              "      <td>website</td>\n",
              "      <td>Banten</td>\n",
              "      <td>Tangerang Selatan</td>\n",
              "      <td>Ralali Kargo</td>\n",
              "      <td>800000.0</td>\n",
              "      <td>2000000.0</td>\n",
              "    </tr>\n",
              "  </tbody>\n",
              "</table>\n",
              "<p>56999 rows × 23 columns</p>\n",
              "</div>\n",
              "      <button class=\"colab-df-convert\" onclick=\"convertToInteractive('df-89299d46-bbdf-47c8-9cb3-fdbe3926e4c2')\"\n",
              "              title=\"Convert this dataframe to an interactive table.\"\n",
              "              style=\"display:none;\">\n",
              "        \n",
              "  <svg xmlns=\"http://www.w3.org/2000/svg\" height=\"24px\"viewBox=\"0 0 24 24\"\n",
              "       width=\"24px\">\n",
              "    <path d=\"M0 0h24v24H0V0z\" fill=\"none\"/>\n",
              "    <path d=\"M18.56 5.44l.94 2.06.94-2.06 2.06-.94-2.06-.94-.94-2.06-.94 2.06-2.06.94zm-11 1L8.5 8.5l.94-2.06 2.06-.94-2.06-.94L8.5 2.5l-.94 2.06-2.06.94zm10 10l.94 2.06.94-2.06 2.06-.94-2.06-.94-.94-2.06-.94 2.06-2.06.94z\"/><path d=\"M17.41 7.96l-1.37-1.37c-.4-.4-.92-.59-1.43-.59-.52 0-1.04.2-1.43.59L10.3 9.45l-7.72 7.72c-.78.78-.78 2.05 0 2.83L4 21.41c.39.39.9.59 1.41.59.51 0 1.02-.2 1.41-.59l7.78-7.78 2.81-2.81c.8-.78.8-2.07 0-2.86zM5.41 20L4 18.59l7.72-7.72 1.47 1.35L5.41 20z\"/>\n",
              "  </svg>\n",
              "      </button>\n",
              "      \n",
              "  <style>\n",
              "    .colab-df-container {\n",
              "      display:flex;\n",
              "      flex-wrap:wrap;\n",
              "      gap: 12px;\n",
              "    }\n",
              "\n",
              "    .colab-df-convert {\n",
              "      background-color: #E8F0FE;\n",
              "      border: none;\n",
              "      border-radius: 50%;\n",
              "      cursor: pointer;\n",
              "      display: none;\n",
              "      fill: #1967D2;\n",
              "      height: 32px;\n",
              "      padding: 0 0 0 0;\n",
              "      width: 32px;\n",
              "    }\n",
              "\n",
              "    .colab-df-convert:hover {\n",
              "      background-color: #E2EBFA;\n",
              "      box-shadow: 0px 1px 2px rgba(60, 64, 67, 0.3), 0px 1px 3px 1px rgba(60, 64, 67, 0.15);\n",
              "      fill: #174EA6;\n",
              "    }\n",
              "\n",
              "    [theme=dark] .colab-df-convert {\n",
              "      background-color: #3B4455;\n",
              "      fill: #D2E3FC;\n",
              "    }\n",
              "\n",
              "    [theme=dark] .colab-df-convert:hover {\n",
              "      background-color: #434B5C;\n",
              "      box-shadow: 0px 1px 3px 1px rgba(0, 0, 0, 0.15);\n",
              "      filter: drop-shadow(0px 1px 2px rgba(0, 0, 0, 0.3));\n",
              "      fill: #FFFFFF;\n",
              "    }\n",
              "  </style>\n",
              "\n",
              "      <script>\n",
              "        const buttonEl =\n",
              "          document.querySelector('#df-89299d46-bbdf-47c8-9cb3-fdbe3926e4c2 button.colab-df-convert');\n",
              "        buttonEl.style.display =\n",
              "          google.colab.kernel.accessAllowed ? 'block' : 'none';\n",
              "\n",
              "        async function convertToInteractive(key) {\n",
              "          const element = document.querySelector('#df-89299d46-bbdf-47c8-9cb3-fdbe3926e4c2');\n",
              "          const dataTable =\n",
              "            await google.colab.kernel.invokeFunction('convertToInteractive',\n",
              "                                                     [key], {});\n",
              "          if (!dataTable) return;\n",
              "\n",
              "          const docLinkHtml = 'Like what you see? Visit the ' +\n",
              "            '<a target=\"_blank\" href=https://colab.research.google.com/notebooks/data_table.ipynb>data table notebook</a>'\n",
              "            + ' to learn more about interactive tables.';\n",
              "          element.innerHTML = '';\n",
              "          dataTable['output_type'] = 'display_data';\n",
              "          await google.colab.output.renderOutput(dataTable, element);\n",
              "          const docLink = document.createElement('div');\n",
              "          docLink.innerHTML = docLinkHtml;\n",
              "          element.appendChild(docLink);\n",
              "        }\n",
              "      </script>\n",
              "    </div>\n",
              "  </div>\n",
              "  "
            ]
          },
          "metadata": {},
          "execution_count": 116
        }
      ],
      "source": [
        "df"
      ]
    },
    {
      "cell_type": "markdown",
      "metadata": {
        "id": "wUjggCo-2Xm4"
      },
      "source": [
        "###DF Info"
      ]
    },
    {
      "cell_type": "code",
      "execution_count": null,
      "metadata": {
        "colab": {
          "base_uri": "https://localhost:8080/"
        },
        "id": "J0rwFMW1pZBW",
        "outputId": "7cbf3ef9-0216-4f54-f204-aa5ee5e1bebf"
      },
      "outputs": [
        {
          "output_type": "stream",
          "name": "stdout",
          "text": [
            "<class 'pandas.core.frame.DataFrame'>\n",
            "RangeIndex: 56999 entries, 0 to 56998\n",
            "Data columns (total 23 columns):\n",
            " #   Column                 Non-Null Count  Dtype              \n",
            "---  ------                 --------------  -----              \n",
            " 0   order_id               56999 non-null  object             \n",
            " 1   oder_detail_id         56999 non-null  object             \n",
            " 2   order_datetime         56999 non-null  datetime64[ns, UTC]\n",
            " 3   item_id                56999 non-null  object             \n",
            " 4   item_name              56999 non-null  object             \n",
            " 5   cat_name               56999 non-null  object             \n",
            " 6   price                  56999 non-null  float64            \n",
            " 7   product_quantity       56999 non-null  Int64              \n",
            " 8   percentage_commission  56999 non-null  float64            \n",
            " 9   payment_method         56999 non-null  object             \n",
            " 10  payment_datetime       56999 non-null  datetime64[ns, UTC]\n",
            " 11  processed_datetime     53325 non-null  datetime64[ns, UTC]\n",
            " 12  delivered_datetime     52995 non-null  datetime64[ns, UTC]\n",
            " 13  received_datetime      53287 non-null  datetime64[ns, UTC]\n",
            " 14  settled_datetime       53079 non-null  datetime64[ns, UTC]\n",
            " 15  buyer_id               56999 non-null  object             \n",
            " 16  seller_id              56999 non-null  object             \n",
            " 17  order_source           56999 non-null  object             \n",
            " 18  buyer_province_name    56995 non-null  object             \n",
            " 19  buyer_city_name        56995 non-null  object             \n",
            " 20  logistic_name          56999 non-null  object             \n",
            " 21  gmv                    56999 non-null  float64            \n",
            " 22  revenue                56999 non-null  float64            \n",
            "dtypes: Int64(1), datetime64[ns, UTC](6), float64(4), object(12)\n",
            "memory usage: 10.1+ MB\n"
          ]
        }
      ],
      "source": [
        "df.info()"
      ]
    },
    {
      "cell_type": "markdown",
      "metadata": {
        "id": "1UrKalsfPNBn"
      },
      "source": [
        "## **A. Data Description**"
      ]
    },
    {
      "cell_type": "markdown",
      "metadata": {
        "id": "lqI31gaL4kxA"
      },
      "source": [
        "#####Modus, Median, Mean Revenue and GMV"
      ]
    },
    {
      "cell_type": "code",
      "execution_count": null,
      "metadata": {
        "id": "BS5uurCG4tQO",
        "colab": {
          "base_uri": "https://localhost:8080/"
        },
        "outputId": "1ff80550-e73c-4376-b876-0314757039e3"
      },
      "outputs": [
        {
          "output_type": "stream",
          "name": "stdout",
          "text": [
            "--GMV--\n",
            "Mean :  10486178.5187284\n",
            "Median : 1287000.0\n",
            "Modus :  0    1210000.0\n",
            "dtype: float64\n",
            "\n",
            "--REVENUE--\n",
            "Mean :  19090481.013842348\n",
            "Median : 2706000.0\n",
            "Modus :  0    0.0\n",
            "dtype: float64\n"
          ]
        }
      ],
      "source": [
        "print('--GMV--')\n",
        "print('Mean : ',df['gmv'].mean())\n",
        "print('Median :',df['gmv'].median())\n",
        "print('Modus : ',df['gmv'].mode())\n",
        "print('')\n",
        "print('--REVENUE--')\n",
        "print('Mean : ',df['revenue'].mean())\n",
        "print('Median :',df['revenue'].median())\n",
        "print('Modus : ',df['revenue'].mode())"
      ]
    },
    {
      "cell_type": "markdown",
      "metadata": {
        "id": "PEbdH01WPSpK"
      },
      "source": [
        "####Top 5 order by provinces"
      ]
    },
    {
      "cell_type": "code",
      "execution_count": null,
      "metadata": {
        "colab": {
          "base_uri": "https://localhost:8080/"
        },
        "id": "3jgpZehu_GDi",
        "outputId": "945a5781-501b-4fe0-e5cf-a6da7806b366"
      },
      "outputs": [
        {
          "output_type": "execute_result",
          "data": {
            "text/plain": [
              "Text(0.5, 1.0, 'Top 5 order by provinces')"
            ]
          },
          "metadata": {},
          "execution_count": 119
        },
        {
          "output_type": "display_data",
          "data": {
            "text/plain": [
              "<Figure size 360x216 with 1 Axes>"
            ],
            "image/png": "[encoded data removed]"
          },
          "metadata": {
            "needs_background": "light"
          }
        }
      ],
      "source": [
        "top_5_city = df['buyer_province_name'].value_counts()[:5]\n",
        "top_5_city.plot(kind='bar',figsize=(5,3))\n",
        "plt.title('Top 5 order by provinces')"
      ]
    },
    {
      "cell_type": "markdown",
      "metadata": {
        "id": "CsrAXkwHtqZA"
      },
      "source": [
        "####Top 5 order by category"
      ]
    },
    {
      "cell_type": "code",
      "execution_count": null,
      "metadata": {
        "colab": {
          "base_uri": "https://localhost:8080/"
        },
        "id": "pW5K1Hat_w-C",
        "outputId": "455596c5-51c0-4541-d66e-ce5421884585"
      },
      "outputs": [
        {
          "output_type": "execute_result",
          "data": {
            "text/plain": [
              "Text(0.5, 1.0, 'Top 5 order by category')"
            ]
          },
          "metadata": {},
          "execution_count": 120
        },
        {
          "output_type": "display_data",
          "data": {
            "text/plain": [
              "<Figure size 360x216 with 1 Axes>"
            ],
            "image/png": "[encoded data removed]"
          },
          "metadata": {
            "needs_background": "light"
          }
        }
      ],
      "source": [
        "top_5_cat = df['cat_name'].value_counts()[:5]\n",
        "top_5_cat.plot(kind='bar',figsize=(5,3))\n",
        "plt.title('Top 5 order by category')"
      ]
    },
    {
      "cell_type": "markdown",
      "metadata": {
        "id": "-4sro6fs2dG3"
      },
      "source": [
        "####GMV and revenue base on category"
      ]
    },
    {
      "cell_type": "code",
      "execution_count": null,
      "metadata": {
        "colab": {
          "base_uri": "https://localhost:8080/"
        },
        "id": "BADk5-mTmBW1",
        "outputId": "51bf309c-259c-4382-d899-5bad6623c15a"
      },
      "outputs": [
        {
          "output_type": "execute_result",
          "data": {
            "text/plain": [
              "                        Cat_Name         gmv      revenue\n",
              "0             Agriculture & Food    319000.0     957000.0\n",
              "1    Automotive & Transportation    300000.0     750000.0\n",
              "2        Beauty, Sport & Fashion    660000.0    3960000.0\n",
              "3             Building Materials  23028500.0   46057000.0\n",
              "4       Computer & Communication   2171000.0    4342000.0\n",
              "5                    Electronics  62535000.0  125070000.0\n",
              "6       Furnitures & Decorations   1488000.0    4464000.0\n",
              "7               Health & Medical   1219200.0    6096000.0\n",
              "8                         Horeca    459200.0    2296000.0\n",
              "9   Machinery & Industrial Parts   8677760.0   43388800.0\n",
              "10       Office & Store Supplies    335500.0    1677500.0\n",
              "11                      Services    144000.0     720000.0"
            ],
            "text/html": [
              "\n",
              "  <div id=\"df-30522367-30a4-4bc1-ac34-fbec2d388d87\">\n",
              "    <div class=\"colab-df-container\">\n",
              "      <div>\n",
              "<style scoped>\n",
              "    .dataframe tbody tr th:only-of-type {\n",
              "        vertical-align: middle;\n",
              "    }\n",
              "\n",
              "    .dataframe tbody tr th {\n",
              "        vertical-align: top;\n",
              "    }\n",
              "\n",
              "    .dataframe thead th {\n",
              "        text-align: right;\n",
              "    }\n",
              "</style>\n",
              "<table border=\"1\" class=\"dataframe\">\n",
              "  <thead>\n",
              "    <tr style=\"text-align: right;\">\n",
              "      <th></th>\n",
              "      <th>Cat_Name</th>\n",
              "      <th>gmv</th>\n",
              "      <th>revenue</th>\n",
              "    </tr>\n",
              "  </thead>\n",
              "  <tbody>\n",
              "    <tr>\n",
              "      <th>0</th>\n",
              "      <td>Agriculture &amp; Food</td>\n",
              "      <td>319000.0</td>\n",
              "      <td>957000.0</td>\n",
              "    </tr>\n",
              "    <tr>\n",
              "      <th>1</th>\n",
              "      <td>Automotive &amp; Transportation</td>\n",
              "      <td>300000.0</td>\n",
              "      <td>750000.0</td>\n",
              "    </tr>\n",
              "    <tr>\n",
              "      <th>2</th>\n",
              "      <td>Beauty, Sport &amp; Fashion</td>\n",
              "      <td>660000.0</td>\n",
              "      <td>3960000.0</td>\n",
              "    </tr>\n",
              "    <tr>\n",
              "      <th>3</th>\n",
              "      <td>Building Materials</td>\n",
              "      <td>23028500.0</td>\n",
              "      <td>46057000.0</td>\n",
              "    </tr>\n",
              "    <tr>\n",
              "      <th>4</th>\n",
              "      <td>Computer &amp; Communication</td>\n",
              "      <td>2171000.0</td>\n",
              "      <td>4342000.0</td>\n",
              "    </tr>\n",
              "    <tr>\n",
              "      <th>5</th>\n",
              "      <td>Electronics</td>\n",
              "      <td>62535000.0</td>\n",
              "      <td>125070000.0</td>\n",
              "    </tr>\n",
              "    <tr>\n",
              "      <th>6</th>\n",
              "      <td>Furnitures &amp; Decorations</td>\n",
              "      <td>1488000.0</td>\n",
              "      <td>4464000.0</td>\n",
              "    </tr>\n",
              "    <tr>\n",
              "      <th>7</th>\n",
              "      <td>Health &amp; Medical</td>\n",
              "      <td>1219200.0</td>\n",
              "      <td>6096000.0</td>\n",
              "    </tr>\n",
              "    <tr>\n",
              "      <th>8</th>\n",
              "      <td>Horeca</td>\n",
              "      <td>459200.0</td>\n",
              "      <td>2296000.0</td>\n",
              "    </tr>\n",
              "    <tr>\n",
              "      <th>9</th>\n",
              "      <td>Machinery &amp; Industrial Parts</td>\n",
              "      <td>8677760.0</td>\n",
              "      <td>43388800.0</td>\n",
              "    </tr>\n",
              "    <tr>\n",
              "      <th>10</th>\n",
              "      <td>Office &amp; Store Supplies</td>\n",
              "      <td>335500.0</td>\n",
              "      <td>1677500.0</td>\n",
              "    </tr>\n",
              "    <tr>\n",
              "      <th>11</th>\n",
              "      <td>Services</td>\n",
              "      <td>144000.0</td>\n",
              "      <td>720000.0</td>\n",
              "    </tr>\n",
              "  </tbody>\n",
              "</table>\n",
              "</div>\n",
              "      <button class=\"colab-df-convert\" onclick=\"convertToInteractive('df-30522367-30a4-4bc1-ac34-fbec2d388d87')\"\n",
              "              title=\"Convert this dataframe to an interactive table.\"\n",
              "              style=\"display:none;\">\n",
              "        \n",
              "  <svg xmlns=\"http://www.w3.org/2000/svg\" height=\"24px\"viewBox=\"0 0 24 24\"\n",
              "       width=\"24px\">\n",
              "    <path d=\"M0 0h24v24H0V0z\" fill=\"none\"/>\n",
              "    <path d=\"M18.56 5.44l.94 2.06.94-2.06 2.06-.94-2.06-.94-.94-2.06-.94 2.06-2.06.94zm-11 1L8.5 8.5l.94-2.06 2.06-.94-2.06-.94L8.5 2.5l-.94 2.06-2.06.94zm10 10l.94 2.06.94-2.06 2.06-.94-2.06-.94-.94-2.06-.94 2.06-2.06.94z\"/><path d=\"M17.41 7.96l-1.37-1.37c-.4-.4-.92-.59-1.43-.59-.52 0-1.04.2-1.43.59L10.3 9.45l-7.72 7.72c-.78.78-.78 2.05 0 2.83L4 21.41c.39.39.9.59 1.41.59.51 0 1.02-.2 1.41-.59l7.78-7.78 2.81-2.81c.8-.78.8-2.07 0-2.86zM5.41 20L4 18.59l7.72-7.72 1.47 1.35L5.41 20z\"/>\n",
              "  </svg>\n",
              "      </button>\n",
              "      \n",
              "  <style>\n",
              "    .colab-df-container {\n",
              "      display:flex;\n",
              "      flex-wrap:wrap;\n",
              "      gap: 12px;\n",
              "    }\n",
              "\n",
              "    .colab-df-convert {\n",
              "      background-color: #E8F0FE;\n",
              "      border: none;\n",
              "      border-radius: 50%;\n",
              "      cursor: pointer;\n",
              "      display: none;\n",
              "      fill: #1967D2;\n",
              "      height: 32px;\n",
              "      padding: 0 0 0 0;\n",
              "      width: 32px;\n",
              "    }\n",
              "\n",
              "    .colab-df-convert:hover {\n",
              "      background-color: #E2EBFA;\n",
              "      box-shadow: 0px 1px 2px rgba(60, 64, 67, 0.3), 0px 1px 3px 1px rgba(60, 64, 67, 0.15);\n",
              "      fill: #174EA6;\n",
              "    }\n",
              "\n",
              "    [theme=dark] .colab-df-convert {\n",
              "      background-color: #3B4455;\n",
              "      fill: #D2E3FC;\n",
              "    }\n",
              "\n",
              "    [theme=dark] .colab-df-convert:hover {\n",
              "      background-color: #434B5C;\n",
              "      box-shadow: 0px 1px 3px 1px rgba(0, 0, 0, 0.15);\n",
              "      filter: drop-shadow(0px 1px 2px rgba(0, 0, 0, 0.3));\n",
              "      fill: #FFFFFF;\n",
              "    }\n",
              "  </style>\n",
              "\n",
              "      <script>\n",
              "        const buttonEl =\n",
              "          document.querySelector('#df-30522367-30a4-4bc1-ac34-fbec2d388d87 button.colab-df-convert');\n",
              "        buttonEl.style.display =\n",
              "          google.colab.kernel.accessAllowed ? 'block' : 'none';\n",
              "\n",
              "        async function convertToInteractive(key) {\n",
              "          const element = document.querySelector('#df-30522367-30a4-4bc1-ac34-fbec2d388d87');\n",
              "          const dataTable =\n",
              "            await google.colab.kernel.invokeFunction('convertToInteractive',\n",
              "                                                     [key], {});\n",
              "          if (!dataTable) return;\n",
              "\n",
              "          const docLinkHtml = 'Like what you see? Visit the ' +\n",
              "            '<a target=\"_blank\" href=https://colab.research.google.com/notebooks/data_table.ipynb>data table notebook</a>'\n",
              "            + ' to learn more about interactive tables.';\n",
              "          element.innerHTML = '';\n",
              "          dataTable['output_type'] = 'display_data';\n",
              "          await google.colab.output.renderOutput(dataTable, element);\n",
              "          const docLink = document.createElement('div');\n",
              "          docLink.innerHTML = docLinkHtml;\n",
              "          element.appendChild(docLink);\n",
              "        }\n",
              "      </script>\n",
              "    </div>\n",
              "  </div>\n",
              "  "
            ]
          },
          "metadata": {},
          "execution_count": 121
        }
      ],
      "source": [
        "sql_query = \"\"\"\n",
        "SELECT cat_name AS Cat_Name,gmv,revenue\n",
        "  FROM df\n",
        "  WHERE payment_datetime IS NOT NULL AND received_datetime IS NOT NULL\n",
        "  GROUP BY cat_name\n",
        "\"\"\"\n",
        "\n",
        "sql_run(sql_query)"
      ]
    },
    {
      "cell_type": "markdown",
      "metadata": {
        "id": "h-5O47B34sSK"
      },
      "source": [
        "## **B. Missing Value**"
      ]
    },
    {
      "cell_type": "code",
      "execution_count": null,
      "metadata": {
        "colab": {
          "base_uri": "https://localhost:8080/"
        },
        "id": "49warPPKu0mu",
        "outputId": "078ac1a0-e40a-4609-ddaa-eaf29176b314"
      },
      "outputs": [
        {
          "output_type": "execute_result",
          "data": {
            "text/plain": [
              "order_id                    0\n",
              "oder_detail_id              0\n",
              "order_datetime              0\n",
              "item_id                     0\n",
              "item_name                   0\n",
              "cat_name                    0\n",
              "price                       0\n",
              "product_quantity            0\n",
              "percentage_commission       0\n",
              "payment_method              0\n",
              "payment_datetime            0\n",
              "processed_datetime       3674\n",
              "delivered_datetime       4004\n",
              "received_datetime        3712\n",
              "settled_datetime         3920\n",
              "buyer_id                    0\n",
              "seller_id                   0\n",
              "order_source                0\n",
              "buyer_province_name         4\n",
              "buyer_city_name             4\n",
              "logistic_name               0\n",
              "gmv                         0\n",
              "revenue                     0\n",
              "dtype: int64"
            ]
          },
          "metadata": {},
          "execution_count": 122
        }
      ],
      "source": [
        "df.isnull().sum()"
      ]
    },
    {
      "cell_type": "markdown",
      "metadata": {
        "id": "6TRFeTB_Cbel"
      },
      "source": [
        "Di sini dapat kita lihat ada 6 kolom dengan missing values:\n",
        "- Kolom `processed_datetime` : ada 3674 baris yang kosong\n",
        "- Kolom `delivered_datetime` : ada 4004 baris yang kosong\n",
        "- Kolom `received_datetime`  : ada 3712 baris yang kosong\n",
        "- Kolom `settled_datetime`   : ada 3920 baris yang kosong\n",
        "- Kolom `buyer_province_name`: ada 4 baris yang kosong\n",
        "- Kolom `buyer_city_name`    : ada 4 baris yang kosong\n",
        "\n",
        "Tetapi hanya kolom `buyer_province_name` dan `buyer_city_name` yang akan diisi baris yang kosong karena untuk kolom lainnya wajar jika kosong dan menandakan bahwa proses itu tidak selesai"
      ]
    },
    {
      "cell_type": "markdown",
      "metadata": {
        "id": "GPZOGQe04yDA"
      },
      "source": [
        "###Filling the missing value with mode"
      ]
    },
    {
      "cell_type": "code",
      "execution_count": null,
      "metadata": {
        "colab": {
          "base_uri": "https://localhost:8080/"
        },
        "id": "Yg5zGSrww3eZ",
        "outputId": "536dab35-d4e3-4638-dcfb-b319ba77ce2a"
      },
      "outputs": [
        {
          "output_type": "execute_result",
          "data": {
            "text/plain": [
              "order_id                    0\n",
              "oder_detail_id              0\n",
              "order_datetime              0\n",
              "item_id                     0\n",
              "item_name                   0\n",
              "cat_name                    0\n",
              "price                       0\n",
              "product_quantity            0\n",
              "percentage_commission       0\n",
              "payment_method              0\n",
              "payment_datetime            0\n",
              "processed_datetime       3674\n",
              "delivered_datetime       4004\n",
              "received_datetime        3712\n",
              "settled_datetime         3920\n",
              "buyer_id                    0\n",
              "seller_id                   0\n",
              "order_source                0\n",
              "buyer_province_name         0\n",
              "buyer_city_name             0\n",
              "logistic_name               0\n",
              "gmv                         0\n",
              "revenue                     0\n",
              "dtype: int64"
            ]
          },
          "metadata": {},
          "execution_count": 123
        }
      ],
      "source": [
        "df['buyer_province_name'] = df['buyer_province_name'].fillna(df['buyer_province_name'].mode()[0])\n",
        "df['buyer_city_name'] = df['buyer_city_name'].fillna(df['buyer_city_name'].mode()[0])\n",
        "df.isnull().sum()"
      ]
    },
    {
      "cell_type": "markdown",
      "metadata": {
        "id": "xMqYnGP8C36W"
      },
      "source": [
        "Missing value pada `buyer_province_name` dan `buyer_city_name` diisi dengan value terbanyak pada kolomnya"
      ]
    },
    {
      "cell_type": "markdown",
      "metadata": {
        "id": "aZvSwKgN4-Dv"
      },
      "source": [
        "##**C. Handling Outliers**"
      ]
    },
    {
      "cell_type": "markdown",
      "metadata": {
        "id": "Dkjxj3czLTWs"
      },
      "source": [
        "#####**Price**\n",
        "\n",
        "\n",
        "\n",
        "\n"
      ]
    },
    {
      "cell_type": "code",
      "execution_count": null,
      "metadata": {
        "colab": {
          "base_uri": "https://localhost:8080/",
          "height": 366
        },
        "id": "RRfpZ9NS7_t4",
        "outputId": "a3e16a61-ede7-4a41-d25d-0d5e20ef4a8b"
      },
      "outputs": [
        {
          "output_type": "display_data",
          "data": {
            "text/plain": [
              "<Figure size 432x288 with 1 Axes>"
            ],
            "image/png": "[encoded data removed]"
          },
          "metadata": {
            "needs_background": "light"
          }
        },
        {
          "output_type": "stream",
          "name": "stdout",
          "text": [
            "PRICE\n",
            "Q1 :  35000.0\n",
            "Q1 :  281000.0\n",
            "Batas bawah : -334000.0\n",
            "Batas atas : 650000.0\n"
          ]
        }
      ],
      "source": [
        "sns.boxplot(data = df, x = 'price')\n",
        "plt.show()\n",
        "q1 = df['price'].quantile(0.25)\n",
        "q3 = df['price'].quantile(0.75)\n",
        "iqr = q3 - q1\n",
        "\n",
        "batas_bawah = q1 - 1.5*iqr\n",
        "batas_atas = q3 + 1.5*iqr\n",
        "\n",
        "print('PRICE')\n",
        "print('Q1 : ',q1)\n",
        "print('Q1 : ',q3)\n",
        "print('Batas bawah :',batas_bawah)\n",
        "print('Batas atas :',batas_atas)"
      ]
    },
    {
      "cell_type": "code",
      "execution_count": null,
      "metadata": {
        "colab": {
          "base_uri": "https://localhost:8080/"
        },
        "id": "HKjyEdl6BZrN",
        "outputId": "1f4efb3d-5947-441a-f113-eab05f21f18c"
      },
      "outputs": [
        {
          "output_type": "execute_result",
          "data": {
            "text/plain": [
              "10178"
            ]
          },
          "metadata": {},
          "execution_count": 125
        }
      ],
      "source": [
        "outlier_price = df[(df['price']< batas_bawah) | (df['price']> batas_atas)]\n",
        "len(outlier_price)"
      ]
    },
    {
      "cell_type": "markdown",
      "metadata": {
        "id": "d8x-pp3VBhR3"
      },
      "source": [
        "Dataframe di atas menunjukkan bahwa **seluruh data** adalah dataframe yang berisi outlier pada kolom `price`."
      ]
    },
    {
      "cell_type": "markdown",
      "metadata": {
        "id": "Em5wLi_1LcYR"
      },
      "source": [
        "#####**Product Quantity**"
      ]
    },
    {
      "cell_type": "code",
      "execution_count": null,
      "metadata": {
        "colab": {
          "base_uri": "https://localhost:8080/",
          "height": 367
        },
        "id": "vz2kZkJ2PPKA",
        "outputId": "c1f7e6bb-9487-4ff1-cfd2-777edfef1711"
      },
      "outputs": [
        {
          "output_type": "display_data",
          "data": {
            "text/plain": [
              "<Figure size 432x288 with 1 Axes>"
            ],
            "image/png": "[encoded data removed]"
          },
          "metadata": {
            "needs_background": "light"
          }
        },
        {
          "output_type": "stream",
          "name": "stdout",
          "text": [
            "Product Quantity\n",
            "Q1 :  11\n",
            "Q1 :  14\n",
            "Batas bawah : 6.5\n",
            "Batas atas : 18.5\n"
          ]
        }
      ],
      "source": [
        "sns.boxplot(data = df, x = 'product_quantity')\n",
        "plt.show()\n",
        "q1 = df['product_quantity'].quantile(0.25)\n",
        "q3 = df['product_quantity'].quantile(0.75)\n",
        "iqr = q3 - q1\n",
        "\n",
        "batas_bawah = q1 - 1.5*iqr\n",
        "batas_atas = q3 + 1.5*iqr\n",
        "\n",
        "print('Product Quantity')\n",
        "print('Q1 : ',q1)\n",
        "print('Q1 : ',q3)\n",
        "print('Batas bawah :',batas_bawah)\n",
        "print('Batas atas :',batas_atas)"
      ]
    },
    {
      "cell_type": "code",
      "execution_count": null,
      "metadata": {
        "colab": {
          "base_uri": "https://localhost:8080/"
        },
        "id": "1SjtzJMDyo3B",
        "outputId": "f9128db0-b894-4581-fa07-420eb07362a4"
      },
      "outputs": [
        {
          "output_type": "execute_result",
          "data": {
            "text/plain": [
              "7171"
            ]
          },
          "metadata": {},
          "execution_count": 127
        }
      ],
      "source": [
        "outlier_product_quantity = df[(df['product_quantity']< batas_bawah) | (df['product_quantity']> batas_atas)]\n",
        "len(outlier_product_quantity)"
      ]
    },
    {
      "cell_type": "markdown",
      "metadata": {
        "id": "cxzOe01A0oMZ"
      },
      "source": [
        "Dataframe di atas menunjukkan bahwa **seluruh data** adalah dataframe yang berisi outlier pada kolom `product_quantity`."
      ]
    },
    {
      "cell_type": "markdown",
      "metadata": {
        "id": "TeyjGViNLhdX"
      },
      "source": [
        "#####**Percentage Commision**"
      ]
    },
    {
      "cell_type": "code",
      "execution_count": null,
      "metadata": {
        "colab": {
          "base_uri": "https://localhost:8080/",
          "height": 367
        },
        "id": "ISXPDyKGQG9_",
        "outputId": "abac19ef-4b56-44ea-bd74-af16266d1be0"
      },
      "outputs": [
        {
          "output_type": "display_data",
          "data": {
            "text/plain": [
              "<Figure size 432x288 with 1 Axes>"
            ],
            "image/png": "[encoded data removed]"
          },
          "metadata": {
            "needs_background": "light"
          }
        },
        {
          "output_type": "stream",
          "name": "stdout",
          "text": [
            "Percentage Commission\n",
            "Q1 :  2.0\n",
            "Q1 :  3.0\n",
            "Batas bawah : 0.5\n",
            "Batas atas : 4.5\n"
          ]
        }
      ],
      "source": [
        "sns.boxplot(data = df, x = 'percentage_commission')\n",
        "plt.show()\n",
        "q1 = df['percentage_commission'].quantile(0.25)\n",
        "q3 = df['percentage_commission'].quantile(0.75)\n",
        "iqr = q3 - q1\n",
        "\n",
        "batas_bawah = q1 - 1.5*iqr\n",
        "batas_atas = q3 + 1.5*iqr\n",
        "\n",
        "print('Percentage Commission')\n",
        "print('Q1 : ',q1)\n",
        "print('Q1 : ',q3)\n",
        "print('Batas bawah :',batas_bawah)\n",
        "print('Batas atas :',batas_atas)"
      ]
    },
    {
      "cell_type": "code",
      "execution_count": null,
      "metadata": {
        "colab": {
          "base_uri": "https://localhost:8080/"
        },
        "id": "FFSooYxctxUq",
        "outputId": "0c876b5e-57ab-4031-ab91-82e777f9b2de"
      },
      "outputs": [
        {
          "output_type": "execute_result",
          "data": {
            "text/plain": [
              "14140"
            ]
          },
          "metadata": {},
          "execution_count": 129
        }
      ],
      "source": [
        "outlier_percentage_commission = df[(df['percentage_commission']< batas_bawah) | (df['percentage_commission']> batas_atas)]\n",
        "len(outlier_percentage_commission)"
      ]
    },
    {
      "cell_type": "markdown",
      "metadata": {
        "id": "lrwZ1SNsuUZL"
      },
      "source": [
        "Dataframe di atas, sebanyak 14140 baris (dari 56999 baris), adalah dataframe yang berisi outlier pada kolom `percentage_commission`. "
      ]
    },
    {
      "cell_type": "markdown",
      "metadata": {
        "id": "VMiRvtOnHXb8"
      },
      "source": [
        "#####**GMV**"
      ]
    },
    {
      "cell_type": "code",
      "execution_count": null,
      "metadata": {
        "colab": {
          "base_uri": "https://localhost:8080/",
          "height": 366
        },
        "id": "YSyJouDQHjF5",
        "outputId": "242cb57c-8507-483c-ee45-fc0640ef6337"
      },
      "outputs": [
        {
          "output_type": "display_data",
          "data": {
            "text/plain": [
              "<Figure size 432x288 with 1 Axes>"
            ],
            "image/png": "[encoded data removed]"
          },
          "metadata": {
            "needs_background": "light"
          }
        },
        {
          "output_type": "stream",
          "name": "stdout",
          "text": [
            "GMV\n",
            "Q1 :  560000.0\n",
            "Q1 :  3930640.0\n",
            "Batas bawah : -4495960.0\n",
            "Batas atas : 8986600.0\n"
          ]
        }
      ],
      "source": [
        "sns.boxplot(data = df, x = 'gmv')\n",
        "plt.show()\n",
        "q1 = df['gmv'].quantile(0.25)\n",
        "q3 = df['gmv'].quantile(0.75)\n",
        "iqr = q3 - q1\n",
        "\n",
        "batas_bawah = q1 - 1.5*iqr\n",
        "batas_atas = q3 + 1.5*iqr\n",
        "\n",
        "print('GMV')\n",
        "print('Q1 : ',q1)\n",
        "print('Q1 : ',q3)\n",
        "print('Batas bawah :',batas_bawah)\n",
        "print('Batas atas :',batas_atas)"
      ]
    },
    {
      "cell_type": "code",
      "execution_count": null,
      "metadata": {
        "colab": {
          "base_uri": "https://localhost:8080/"
        },
        "id": "xr-ZNnH5Hw7d",
        "outputId": "63eaef78-a436-4117-ef1e-160dc7f5b9aa"
      },
      "outputs": [
        {
          "output_type": "execute_result",
          "data": {
            "text/plain": [
              "10498"
            ]
          },
          "metadata": {},
          "execution_count": 131
        }
      ],
      "source": [
        "outlier_gmv = df[(df['gmv']< batas_bawah) | (df['gmv']> batas_atas)]\n",
        "len(outlier_gmv)"
      ]
    },
    {
      "cell_type": "markdown",
      "metadata": {
        "id": "VG0b-419HyPf"
      },
      "source": [
        "Dataframe di atas, sebanyak 10498 baris (dari 56999 baris), adalah dataframe yang berisi outlier pada kolom `gmv`. "
      ]
    },
    {
      "cell_type": "markdown",
      "metadata": {
        "id": "pWkKglZiIG7H"
      },
      "source": [
        "#####**Revenue**"
      ]
    },
    {
      "cell_type": "code",
      "execution_count": null,
      "metadata": {
        "colab": {
          "base_uri": "https://localhost:8080/",
          "height": 366
        },
        "id": "66byaUfnIMf_",
        "outputId": "a6538e42-8d17-43a9-eeba-15edecd53d4d"
      },
      "outputs": [
        {
          "output_type": "display_data",
          "data": {
            "text/plain": [
              "<Figure size 432x288 with 1 Axes>"
            ],
            "image/png": "[encoded data removed]"
          },
          "metadata": {
            "needs_background": "light"
          }
        },
        {
          "output_type": "stream",
          "name": "stdout",
          "text": [
            "Revenue\n",
            "Q1 :  770400.0\n",
            "Q1 :  6164760.0\n",
            "Batas bawah : -7321140.0\n",
            "Batas atas : 14256300.0\n"
          ]
        }
      ],
      "source": [
        "sns.boxplot(data = df, x = 'revenue')\n",
        "plt.show()\n",
        "q1 = df['revenue'].quantile(0.25)\n",
        "q3 = df['revenue'].quantile(0.75)\n",
        "iqr = q3 - q1\n",
        "\n",
        "batas_bawah = q1 - 1.5*iqr\n",
        "batas_atas = q3 + 1.5*iqr\n",
        "\n",
        "print('Revenue')\n",
        "print('Q1 : ',q1)\n",
        "print('Q1 : ',q3)\n",
        "print('Batas bawah :',batas_bawah)\n",
        "print('Batas atas :',batas_atas)"
      ]
    },
    {
      "cell_type": "code",
      "execution_count": null,
      "metadata": {
        "colab": {
          "base_uri": "https://localhost:8080/"
        },
        "id": "tJrp8d1SISBJ",
        "outputId": "cccfc4e8-0fa9-488d-e3b0-dec33497fb23"
      },
      "outputs": [
        {
          "output_type": "execute_result",
          "data": {
            "text/plain": [
              "9193"
            ]
          },
          "metadata": {},
          "execution_count": 133
        }
      ],
      "source": [
        "outlier_revenue = df[(df['revenue']< batas_bawah) | (df['revenue']> batas_atas)]\n",
        "len(outlier_revenue)"
      ]
    },
    {
      "cell_type": "markdown",
      "metadata": {
        "id": "z97b-m_HIV1C"
      },
      "source": [
        "Dataframe di atas, sebanyak 9193 baris (dari 56999 baris), adalah dataframe yang berisi outlier pada kolom `percentage_commission`. "
      ]
    },
    {
      "cell_type": "markdown",
      "metadata": {
        "id": "meoHrIOSZ7ae"
      },
      "source": [
        "##**D. DATA TRANSFORMATION**"
      ]
    },
    {
      "cell_type": "markdown",
      "metadata": {
        "id": "drzkJ1SGhYD7"
      },
      "source": [
        "####**Renaming**"
      ]
    },
    {
      "cell_type": "markdown",
      "metadata": {
        "id": "OaSA21SmhfDi"
      },
      "source": [
        "######**Buyer Province Name**"
      ]
    },
    {
      "cell_type": "code",
      "execution_count": null,
      "metadata": {
        "colab": {
          "base_uri": "https://localhost:8080/"
        },
        "id": "raR3ZusGRdlT",
        "outputId": "41d86605-24d9-460d-9233-0099c8096bcb"
      },
      "outputs": [
        {
          "output_type": "stream",
          "name": "stdout",
          "text": [
            "--Before--\n"
          ]
        },
        {
          "output_type": "execute_result",
          "data": {
            "text/plain": [
              "DKI Jakarta                       11267\n",
              "Jawa Tengah                       10425\n",
              "Jawa Barat                         8926\n",
              "Banten                             7966\n",
              "Riau                               4833\n",
              "Dki Jakarta                        4449\n",
              "Jawa Timur                         3390\n",
              "Bali                               1751\n",
              "Kepulauan Riau                     1106\n",
              "Sumatera Utara                      841\n",
              "Sumatera Barat                      478\n",
              "Sumatera Selatan                    471\n",
              "DI Yogyakarta                       372\n",
              "Di Yogyakarta                       187\n",
              "Sulawesi Selatan                    176\n",
              "Kalimantan Utara                    137\n",
              "Lampung                              60\n",
              "Kalimantan Timur                     31\n",
              "Kalimantan Barat                     26\n",
              "Jambi                                17\n",
              "Bangka Belitung                      16\n",
              "Kalimantan Selatan                   12\n",
              "Nusa Tenggara Barat                  11\n",
              "Nanggroe Aceh Darussalam             10\n",
              "Sulawesi Utara                        9\n",
              "Nanggroe Aceh Darussalam (nad)        5\n",
              "Bengkulu                              5\n",
              "Nusa Tenggara Barat (ntb)             4\n",
              "Kalimantan Tengah                     4\n",
              "Gorontalo                             3\n",
              "Sulawesi Tenggara                     3\n",
              "Nusa Tenggara Timur                   2\n",
              "Maluku                                2\n",
              "Sulawesi Barat                        1\n",
              "Papua Barat                           1\n",
              "Maluku Utara                          1\n",
              "Sulawesi Tengah                       1\n",
              "Name: buyer_province_name, dtype: int64"
            ]
          },
          "metadata": {},
          "execution_count": 134
        }
      ],
      "source": [
        "print('--Before--')\n",
        "df['buyer_province_name'].value_counts()"
      ]
    },
    {
      "cell_type": "code",
      "execution_count": null,
      "metadata": {
        "id": "Af-4bB70gHgt"
      },
      "outputs": [],
      "source": [
        "df['buyer_province_name']=df['buyer_province_name'].replace({'Dki Jakarta':'DKI Jakarta','Di Yogyakarta': 'DI Yogyakarta',\n",
        "                                   'Nanggroe Aceh Darussalam (nad)':'Nanggroe Aceh Darussalam',\n",
        "                                   'Nusa Tenggara Barat (ntb)':'Nusa Tenggara Barat'})"
      ]
    },
    {
      "cell_type": "code",
      "execution_count": null,
      "metadata": {
        "colab": {
          "base_uri": "https://localhost:8080/"
        },
        "id": "xQXwuz-XhKIN",
        "outputId": "5405ef6b-ec7d-47c9-b3af-0bc6eb520046"
      },
      "outputs": [
        {
          "output_type": "stream",
          "name": "stdout",
          "text": [
            "--After--\n"
          ]
        },
        {
          "output_type": "execute_result",
          "data": {
            "text/plain": [
              "DKI Jakarta                 15716\n",
              "Jawa Tengah                 10425\n",
              "Jawa Barat                   8926\n",
              "Banten                       7966\n",
              "Riau                         4833\n",
              "Jawa Timur                   3390\n",
              "Bali                         1751\n",
              "Kepulauan Riau               1106\n",
              "Sumatera Utara                841\n",
              "DI Yogyakarta                 559\n",
              "Sumatera Barat                478\n",
              "Sumatera Selatan              471\n",
              "Sulawesi Selatan              176\n",
              "Kalimantan Utara              137\n",
              "Lampung                        60\n",
              "Kalimantan Timur               31\n",
              "Kalimantan Barat               26\n",
              "Jambi                          17\n",
              "Bangka Belitung                16\n",
              "Nusa Tenggara Barat            15\n",
              "Nanggroe Aceh Darussalam       15\n",
              "Kalimantan Selatan             12\n",
              "Sulawesi Utara                  9\n",
              "Bengkulu                        5\n",
              "Kalimantan Tengah               4\n",
              "Gorontalo                       3\n",
              "Sulawesi Tenggara               3\n",
              "Nusa Tenggara Timur             2\n",
              "Maluku                          2\n",
              "Maluku Utara                    1\n",
              "Sulawesi Barat                  1\n",
              "Papua Barat                     1\n",
              "Sulawesi Tengah                 1\n",
              "Name: buyer_province_name, dtype: int64"
            ]
          },
          "metadata": {},
          "execution_count": 136
        }
      ],
      "source": [
        "print('--After--')\n",
        "df['buyer_province_name'].value_counts()"
      ]
    },
    {
      "cell_type": "markdown",
      "metadata": {
        "id": "VQRzEwEGNrZW"
      },
      "source": [
        "#####**Order source**"
      ]
    },
    {
      "cell_type": "code",
      "execution_count": null,
      "metadata": {
        "colab": {
          "base_uri": "https://localhost:8080/"
        },
        "id": "o7dX4wgg34_A",
        "outputId": "e2ba8563-1a7f-470c-c0f9-66774639e5c3"
      },
      "outputs": [
        {
          "output_type": "stream",
          "name": "stdout",
          "text": [
            "--Before--\n"
          ]
        },
        {
          "output_type": "execute_result",
          "data": {
            "text/plain": [
              "Android       34868\n",
              "website       18190\n",
              "Web Ralali     1772\n",
              "CMS            1364\n",
              "ios             805\n",
              "Name: order_source, dtype: int64"
            ]
          },
          "metadata": {},
          "execution_count": 137
        }
      ],
      "source": [
        "print('--Before--')\n",
        "df['order_source'].value_counts()"
      ]
    },
    {
      "cell_type": "code",
      "execution_count": null,
      "metadata": {
        "id": "OenaNc8dM-8x"
      },
      "outputs": [],
      "source": [
        "df['order_source']=df['order_source'].replace({'Web Ralali':'website'})"
      ]
    },
    {
      "cell_type": "code",
      "execution_count": null,
      "metadata": {
        "colab": {
          "base_uri": "https://localhost:8080/"
        },
        "id": "8eXapp1F8k2G",
        "outputId": "9cdf8435-18c4-43f3-fd74-fd8c4d6d1309"
      },
      "outputs": [
        {
          "output_type": "stream",
          "name": "stdout",
          "text": [
            "--After--\n"
          ]
        },
        {
          "output_type": "execute_result",
          "data": {
            "text/plain": [
              "Android    34868\n",
              "website    19962\n",
              "CMS         1364\n",
              "ios          805\n",
              "Name: order_source, dtype: int64"
            ]
          },
          "metadata": {},
          "execution_count": 139
        }
      ],
      "source": [
        "print('--After--')\n",
        "df['order_source'].value_counts()"
      ]
    },
    {
      "cell_type": "markdown",
      "metadata": {
        "id": "ejmS-ifJNwBb"
      },
      "source": [
        "#####**Payment Method**"
      ]
    },
    {
      "cell_type": "code",
      "execution_count": null,
      "metadata": {
        "colab": {
          "base_uri": "https://localhost:8080/"
        },
        "id": "WfSRqVHD3mJa",
        "outputId": "23a10c71-18a8-4536-ee73-789fbfe3bec4"
      },
      "outputs": [
        {
          "output_type": "stream",
          "name": "stdout",
          "text": [
            "--Before--\n"
          ]
        },
        {
          "output_type": "execute_result",
          "data": {
            "text/plain": [
              "BCA Bank Transfer           32060\n",
              "BCA                          8084\n",
              "Ralali Wallet                6405\n",
              "Mandiri                      1957\n",
              "Bank BCA                     1729\n",
              "BNI                          1628\n",
              "BRI Bank Transfer            1239\n",
              "Mandiri Bank Transfer         881\n",
              "BNI Bank Transfer             779\n",
              "BRI                           776\n",
              "Credit Card                   557\n",
              "Ovo                           456\n",
              "Permata                       203\n",
              "BII                            64\n",
              "Payment Nothing                63\n",
              "Mandiri Internet Banking       59\n",
              "DBS Bank Transfer              31\n",
              "Kredivo                        26\n",
              "BCA Klik Pay                    2\n",
              "Name: payment_method, dtype: int64"
            ]
          },
          "metadata": {},
          "execution_count": 140
        }
      ],
      "source": [
        "print('--Before--')\n",
        "df['payment_method'].value_counts()"
      ]
    },
    {
      "cell_type": "code",
      "execution_count": null,
      "metadata": {
        "id": "G1R5K4jO8xbC"
      },
      "outputs": [],
      "source": [
        "df['payment_method']=df['payment_method'].replace({'BCA Bank Transfer':'BCA','Bank BCA': 'BCA',\n",
        "                                   'BCA Klik Pay':'BCA', 'Mandiri Bank Transfer':'Mandiri', \n",
        "                                   'Mandiri Internet Banking' : 'Mandiri','BNI Bank Transfer':'BNI',\n",
        "                                   'BNI Bank Transfer':'BNI','BRI Bank Transfer':'BRI','DBS Bank Transfer':'DBS'})"
      ]
    },
    {
      "cell_type": "code",
      "execution_count": null,
      "metadata": {
        "colab": {
          "base_uri": "https://localhost:8080/"
        },
        "id": "XI9Z1G4qGfF_",
        "outputId": "08fbeec6-b61b-43e5-ce6e-26b412153765"
      },
      "outputs": [
        {
          "output_type": "stream",
          "name": "stdout",
          "text": [
            "--After--\n"
          ]
        },
        {
          "output_type": "execute_result",
          "data": {
            "text/plain": [
              "BCA                41875\n",
              "Ralali Wallet       6405\n",
              "Mandiri             2897\n",
              "BNI                 2407\n",
              "BRI                 2015\n",
              "Credit Card          557\n",
              "Ovo                  456\n",
              "Permata              203\n",
              "BII                   64\n",
              "Payment Nothing       63\n",
              "DBS                   31\n",
              "Kredivo               26\n",
              "Name: payment_method, dtype: int64"
            ]
          },
          "metadata": {},
          "execution_count": 142
        }
      ],
      "source": [
        "print('--After--')\n",
        "df['payment_method'].value_counts()"
      ]
    },
    {
      "cell_type": "markdown",
      "source": [
        "####**Change data type**"
      ],
      "metadata": {
        "id": "QNkNaTeFs8Oq"
      }
    },
    {
      "cell_type": "markdown",
      "source": [
        "#####Datetime64[ns,UTC] to Datetime64[ns]\n",
        "We need to change the datatype for csv could detect the datetime with this new format which is without utc"
      ],
      "metadata": {
        "id": "MMRzaW7CM7Iw"
      }
    },
    {
      "cell_type": "code",
      "source": [
        "df['order_datetime'] = pd.to_datetime(df.order_datetime).dt.tz_localize(None)\n",
        "df['payment_datetime'] = pd.to_datetime(df.payment_datetime).dt.tz_localize(None)\n",
        "df['processed_datetime'] = pd.to_datetime(df.processed_datetime).dt.tz_localize(None)\n",
        "df['delivered_datetime'] = pd.to_datetime(df.delivered_datetime).dt.tz_localize(None)\n",
        "df['received_datetime'] = pd.to_datetime(df.received_datetime).dt.tz_localize(None)\n",
        "df['settled_datetime'] = pd.to_datetime(df.settled_datetime).dt.tz_localize(None)\n",
        "df.info()"
      ],
      "metadata": {
        "colab": {
          "base_uri": "https://localhost:8080/"
        },
        "id": "CGzUk6xMbWt8",
        "outputId": "d3d19c96-a56d-48b2-aa42-f1d2b8f2023e"
      },
      "execution_count": null,
      "outputs": [
        {
          "output_type": "stream",
          "name": "stdout",
          "text": [
            "<class 'pandas.core.frame.DataFrame'>\n",
            "RangeIndex: 56999 entries, 0 to 56998\n",
            "Data columns (total 23 columns):\n",
            " #   Column                 Non-Null Count  Dtype         \n",
            "---  ------                 --------------  -----         \n",
            " 0   order_id               56999 non-null  object        \n",
            " 1   oder_detail_id         56999 non-null  object        \n",
            " 2   order_datetime         56999 non-null  datetime64[ns]\n",
            " 3   item_id                56999 non-null  object        \n",
            " 4   item_name              56999 non-null  object        \n",
            " 5   cat_name               56999 non-null  object        \n",
            " 6   price                  56999 non-null  float64       \n",
            " 7   product_quantity       56999 non-null  Int64         \n",
            " 8   percentage_commission  56999 non-null  float64       \n",
            " 9   payment_method         56999 non-null  object        \n",
            " 10  payment_datetime       56999 non-null  datetime64[ns]\n",
            " 11  processed_datetime     53325 non-null  datetime64[ns]\n",
            " 12  delivered_datetime     52995 non-null  datetime64[ns]\n",
            " 13  received_datetime      53287 non-null  datetime64[ns]\n",
            " 14  settled_datetime       53079 non-null  datetime64[ns]\n",
            " 15  buyer_id               56999 non-null  object        \n",
            " 16  seller_id              56999 non-null  object        \n",
            " 17  order_source           56999 non-null  object        \n",
            " 18  buyer_province_name    56999 non-null  object        \n",
            " 19  buyer_city_name        56999 non-null  object        \n",
            " 20  logistic_name          56999 non-null  object        \n",
            " 21  gmv                    56999 non-null  float64       \n",
            " 22  revenue                56999 non-null  float64       \n",
            "dtypes: Int64(1), datetime64[ns](6), float64(4), object(12)\n",
            "memory usage: 10.1+ MB\n"
          ]
        }
      ]
    },
    {
      "cell_type": "markdown",
      "metadata": {
        "id": "D1jqwynEOhZk"
      },
      "source": [
        "## **E. Explorary Data Analysis**"
      ]
    },
    {
      "cell_type": "code",
      "execution_count": null,
      "metadata": {
        "colab": {
          "base_uri": "https://localhost:8080/",
          "height": 307
        },
        "id": "YsdRItH2xvly",
        "outputId": "aa937796-9ba8-4580-c137-a267261996cf"
      },
      "outputs": [
        {
          "output_type": "execute_result",
          "data": {
            "text/plain": [
              "<matplotlib.axes._subplots.AxesSubplot at 0x7f2320c329a0>"
            ]
          },
          "metadata": {},
          "execution_count": 144
        },
        {
          "output_type": "display_data",
          "data": {
            "text/plain": [
              "<Figure size 432x288 with 1 Axes>"
            ],
            "image/png": "[encoded data removed]"
          },
          "metadata": {
            "needs_background": "light"
          }
        }
      ],
      "source": [
        "sns.scatterplot(data = df, x = 'gmv', y = 'revenue')"
      ]
    },
    {
      "cell_type": "code",
      "source": [
        "df.corr('pearson')"
      ],
      "metadata": {
        "colab": {
          "base_uri": "https://localhost:8080/",
          "height": 206
        },
        "id": "NUayUgKibhpq",
        "outputId": "a00cb1b1-381e-4e9a-c3c9-d9113cf7b2e2"
      },
      "execution_count": null,
      "outputs": [
        {
          "output_type": "execute_result",
          "data": {
            "text/plain": [
              "                          price  product_quantity  percentage_commission  \\\n",
              "price                  1.000000         -0.007430              -0.045398   \n",
              "product_quantity      -0.007430          1.000000              -0.001343   \n",
              "percentage_commission -0.045398         -0.001343               1.000000   \n",
              "gmv                    0.995959          0.015447              -0.043423   \n",
              "revenue                0.745424          0.016196               0.080666   \n",
              "\n",
              "                            gmv   revenue  \n",
              "price                  0.995959  0.745424  \n",
              "product_quantity       0.015447  0.016196  \n",
              "percentage_commission -0.043423  0.080666  \n",
              "gmv                    1.000000  0.751861  \n",
              "revenue                0.751861  1.000000  "
            ],
            "text/html": [
              "\n",
              "  <div id=\"df-019cfefe-2a68-4e33-8486-4b215a4f5806\">\n",
              "    <div class=\"colab-df-container\">\n",
              "      <div>\n",
              "<style scoped>\n",
              "    .dataframe tbody tr th:only-of-type {\n",
              "        vertical-align: middle;\n",
              "    }\n",
              "\n",
              "    .dataframe tbody tr th {\n",
              "        vertical-align: top;\n",
              "    }\n",
              "\n",
              "    .dataframe thead th {\n",
              "        text-align: right;\n",
              "    }\n",
              "</style>\n",
              "<table border=\"1\" class=\"dataframe\">\n",
              "  <thead>\n",
              "    <tr style=\"text-align: right;\">\n",
              "      <th></th>\n",
              "      <th>price</th>\n",
              "      <th>product_quantity</th>\n",
              "      <th>percentage_commission</th>\n",
              "      <th>gmv</th>\n",
              "      <th>revenue</th>\n",
              "    </tr>\n",
              "  </thead>\n",
              "  <tbody>\n",
              "    <tr>\n",
              "      <th>price</th>\n",
              "      <td>1.000000</td>\n",
              "      <td>-0.007430</td>\n",
              "      <td>-0.045398</td>\n",
              "      <td>0.995959</td>\n",
              "      <td>0.745424</td>\n",
              "    </tr>\n",
              "    <tr>\n",
              "      <th>product_quantity</th>\n",
              "      <td>-0.007430</td>\n",
              "      <td>1.000000</td>\n",
              "      <td>-0.001343</td>\n",
              "      <td>0.015447</td>\n",
              "      <td>0.016196</td>\n",
              "    </tr>\n",
              "    <tr>\n",
              "      <th>percentage_commission</th>\n",
              "      <td>-0.045398</td>\n",
              "      <td>-0.001343</td>\n",
              "      <td>1.000000</td>\n",
              "      <td>-0.043423</td>\n",
              "      <td>0.080666</td>\n",
              "    </tr>\n",
              "    <tr>\n",
              "      <th>gmv</th>\n",
              "      <td>0.995959</td>\n",
              "      <td>0.015447</td>\n",
              "      <td>-0.043423</td>\n",
              "      <td>1.000000</td>\n",
              "      <td>0.751861</td>\n",
              "    </tr>\n",
              "    <tr>\n",
              "      <th>revenue</th>\n",
              "      <td>0.745424</td>\n",
              "      <td>0.016196</td>\n",
              "      <td>0.080666</td>\n",
              "      <td>0.751861</td>\n",
              "      <td>1.000000</td>\n",
              "    </tr>\n",
              "  </tbody>\n",
              "</table>\n",
              "</div>\n",
              "      <button class=\"colab-df-convert\" onclick=\"convertToInteractive('df-019cfefe-2a68-4e33-8486-4b215a4f5806')\"\n",
              "              title=\"Convert this dataframe to an interactive table.\"\n",
              "              style=\"display:none;\">\n",
              "        \n",
              "  <svg xmlns=\"http://www.w3.org/2000/svg\" height=\"24px\"viewBox=\"0 0 24 24\"\n",
              "       width=\"24px\">\n",
              "    <path d=\"M0 0h24v24H0V0z\" fill=\"none\"/>\n",
              "    <path d=\"M18.56 5.44l.94 2.06.94-2.06 2.06-.94-2.06-.94-.94-2.06-.94 2.06-2.06.94zm-11 1L8.5 8.5l.94-2.06 2.06-.94-2.06-.94L8.5 2.5l-.94 2.06-2.06.94zm10 10l.94 2.06.94-2.06 2.06-.94-2.06-.94-.94-2.06-.94 2.06-2.06.94z\"/><path d=\"M17.41 7.96l-1.37-1.37c-.4-.4-.92-.59-1.43-.59-.52 0-1.04.2-1.43.59L10.3 9.45l-7.72 7.72c-.78.78-.78 2.05 0 2.83L4 21.41c.39.39.9.59 1.41.59.51 0 1.02-.2 1.41-.59l7.78-7.78 2.81-2.81c.8-.78.8-2.07 0-2.86zM5.41 20L4 18.59l7.72-7.72 1.47 1.35L5.41 20z\"/>\n",
              "  </svg>\n",
              "      </button>\n",
              "      \n",
              "  <style>\n",
              "    .colab-df-container {\n",
              "      display:flex;\n",
              "      flex-wrap:wrap;\n",
              "      gap: 12px;\n",
              "    }\n",
              "\n",
              "    .colab-df-convert {\n",
              "      background-color: #E8F0FE;\n",
              "      border: none;\n",
              "      border-radius: 50%;\n",
              "      cursor: pointer;\n",
              "      display: none;\n",
              "      fill: #1967D2;\n",
              "      height: 32px;\n",
              "      padding: 0 0 0 0;\n",
              "      width: 32px;\n",
              "    }\n",
              "\n",
              "    .colab-df-convert:hover {\n",
              "      background-color: #E2EBFA;\n",
              "      box-shadow: 0px 1px 2px rgba(60, 64, 67, 0.3), 0px 1px 3px 1px rgba(60, 64, 67, 0.15);\n",
              "      fill: #174EA6;\n",
              "    }\n",
              "\n",
              "    [theme=dark] .colab-df-convert {\n",
              "      background-color: #3B4455;\n",
              "      fill: #D2E3FC;\n",
              "    }\n",
              "\n",
              "    [theme=dark] .colab-df-convert:hover {\n",
              "      background-color: #434B5C;\n",
              "      box-shadow: 0px 1px 3px 1px rgba(0, 0, 0, 0.15);\n",
              "      filter: drop-shadow(0px 1px 2px rgba(0, 0, 0, 0.3));\n",
              "      fill: #FFFFFF;\n",
              "    }\n",
              "  </style>\n",
              "\n",
              "      <script>\n",
              "        const buttonEl =\n",
              "          document.querySelector('#df-019cfefe-2a68-4e33-8486-4b215a4f5806 button.colab-df-convert');\n",
              "        buttonEl.style.display =\n",
              "          google.colab.kernel.accessAllowed ? 'block' : 'none';\n",
              "\n",
              "        async function convertToInteractive(key) {\n",
              "          const element = document.querySelector('#df-019cfefe-2a68-4e33-8486-4b215a4f5806');\n",
              "          const dataTable =\n",
              "            await google.colab.kernel.invokeFunction('convertToInteractive',\n",
              "                                                     [key], {});\n",
              "          if (!dataTable) return;\n",
              "\n",
              "          const docLinkHtml = 'Like what you see? Visit the ' +\n",
              "            '<a target=\"_blank\" href=https://colab.research.google.com/notebooks/data_table.ipynb>data table notebook</a>'\n",
              "            + ' to learn more about interactive tables.';\n",
              "          element.innerHTML = '';\n",
              "          dataTable['output_type'] = 'display_data';\n",
              "          await google.colab.output.renderOutput(dataTable, element);\n",
              "          const docLink = document.createElement('div');\n",
              "          docLink.innerHTML = docLinkHtml;\n",
              "          element.appendChild(docLink);\n",
              "        }\n",
              "      </script>\n",
              "    </div>\n",
              "  </div>\n",
              "  "
            ]
          },
          "metadata": {},
          "execution_count": 145
        }
      ]
    },
    {
      "cell_type": "markdown",
      "source": [
        "Korelasi antara `gmv` dan `revenue` sangat kuat dengan korelasi sebesar 0.751861\n",
        "\n",
        "Berikut penentuan seberapa kuat suatu hubungan antara kedua variabel: \n",
        "\n",
        "![rumus_spearman_tabelkorelasi.jpg](data:image/jpeg;base64,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)\n"
      ],
      "metadata": {
        "id": "opGnMNd_PJrp"
      }
    },
    {
      "cell_type": "markdown",
      "source": [
        "## Dataframe (After Cleansing)"
      ],
      "metadata": {
        "id": "8PVXihFBNy5G"
      }
    },
    {
      "cell_type": "code",
      "source": [
        "df"
      ],
      "metadata": {
        "colab": {
          "base_uri": "https://localhost:8080/",
          "height": 1000
        },
        "id": "J3RNB7UxNxfj",
        "outputId": "1804cb8d-5469-462e-fb4b-9efc4dd5f7a9"
      },
      "execution_count": null,
      "outputs": [
        {
          "output_type": "execute_result",
          "data": {
            "text/plain": [
              "                                                order_id  \\\n",
              "0      vWtd1y0/6huGN2/XeVvDsuZQoDwatiNmUATDyiR+T176ru...   \n",
              "1      hYo6AokZ1bqrZlrc/eMvqqaODQGiv5/TmUFtzkYTuY5jDZ...   \n",
              "2      aZYLoHJEF14rPOHWczVrCzZHEbwv72w9yVEOtCVNQoeA3+...   \n",
              "3      aYEM8mBNtgtgtwiXy8o7KoVr7dD8S6remri7NnvTgFprLo...   \n",
              "4      fLtNp9wUwKF9DdhOTfsq9mBjgBiPGTYdIVIthaxC5klNh8...   \n",
              "...                                                  ...   \n",
              "56994  hMNVJu7pe/56r9IMer9EOhMaspNepjbOjY+yzwuxhbyMeX...   \n",
              "56995  Kyr1swAjeR37xIsuF5FDUbp7QtkHWpbNByLa/Smk4It3Jv...   \n",
              "56996  vUVI5D2/Fkw+uJCP/prvGKQR7pS6ysgu+YBpy7XKD0LDfI...   \n",
              "56997  9l6zCubPWS1YrZp00WRBFOxRqWaqOid00L+C28qt8PhjEj...   \n",
              "56998  0b8ttj22Y4JOZSMxrgXb0E4pd5MD7e+Pmy8Zk5rrK5NssN...   \n",
              "\n",
              "                                          oder_detail_id  \\\n",
              "0      5F+Im4Nc+NUSZqLbx+X1eDrweIh5M0spYtS/UdcVA7aaJ+...   \n",
              "1      X1hbQ/Sk8go6uIIMeGCtodTT1RHe747Bfix4NRcsVSMVMw...   \n",
              "2      GR22NQrEEEj8H0xYK5+06Ivz/pw7kkM6PRfduolAeb2waS...   \n",
              "3      I224XW2xDNCFAAe6UMFftC9alJNKABfKg9GKaNlLaYKyJI...   \n",
              "4      4o+vKqCoSfwwEga/7WeHhYwpvRT9NN7G+u2yhnQuAiv+72...   \n",
              "...                                                  ...   \n",
              "56994  ubvMK0JvvfzZqdH7NPiZDJfMtaWZF0JMKJ0flm/n/BrYXj...   \n",
              "56995  GEn8zsO7m+zvxgj7NUqs9HBwHFOfpA+YY1sbpRq+r5X12f...   \n",
              "56996  wgTA6Nj4X0Sg+468a/zs6g41zZhMOzhScQA4z9kkRSJ8Mt...   \n",
              "56997  r3AHlSaQGMTk5zYJsU95OiO4BpjpQqupMgsDqux6QOULFU...   \n",
              "56998  K0G2ddYGBXc+y80wtiUDrEvnKsYgwjntEVvmtOvFCzwYkN...   \n",
              "\n",
              "                 order_datetime  \\\n",
              "0     2018-01-24 23:08:46+00:00   \n",
              "1     2018-03-12 15:18:13+00:00   \n",
              "2     2018-02-01 20:16:19+00:00   \n",
              "3     2018-01-15 15:49:58+00:00   \n",
              "4     2018-01-15 15:01:33+00:00   \n",
              "...                         ...   \n",
              "56994 2020-03-17 08:11:07+00:00   \n",
              "56995 2020-01-28 00:57:59+00:00   \n",
              "56996 2020-01-28 00:51:48+00:00   \n",
              "56997 2020-03-19 21:44:49+00:00   \n",
              "56998 2020-01-02 14:18:46+00:00   \n",
              "\n",
              "                                                 item_id  \\\n",
              "0      FiwEDZtpOyYWv3+YJlwOSL3tBRSsNNNNDddisUbym/nJPF...   \n",
              "1      GYSx7Gu3Wy/DC3c/QEHBotPs/OIE1QDfKwTyWqEHhb626J...   \n",
              "2      GYSx7Gu3Wy/DC3c/QEHBotPs/OIE1QDfKwTyWqEHhb626J...   \n",
              "3      GYSx7Gu3Wy/DC3c/QEHBotPs/OIE1QDfKwTyWqEHhb626J...   \n",
              "4      GYSx7Gu3Wy/DC3c/QEHBotPs/OIE1QDfKwTyWqEHhb626J...   \n",
              "...                                                  ...   \n",
              "56994  qmY+fo95UnBw5KEdLm+TUDGqv9YHywZCrCDPqFHXNMmO3y...   \n",
              "56995  qmY+fo95UnBw5KEdLm+TUDGqv9YHywZCrCDPqFHXNMmO3y...   \n",
              "56996  qmY+fo95UnBw5KEdLm+TUDGqv9YHywZCrCDPqFHXNMmO3y...   \n",
              "56997  e8ZS0UrAzdLUpfXhh33Xx3UUWULCWDHNWMe0h04Qi6SBzT...   \n",
              "56998  Y4yb++f39blRbkJpr0fnt0U4nguBFWqMTXhcNAH73+PqJe...   \n",
              "\n",
              "                                        item_name  \\\n",
              "0      IC LOCK Alarm Sepeda Motor Tipe 1L 1 Sandi   \n",
              "1                 Sleeping Bag Ultralight Packing   \n",
              "2                 Sleeping Bag Ultralight Packing   \n",
              "3                 Sleeping Bag Ultralight Packing   \n",
              "4                 Sleeping Bag Ultralight Packing   \n",
              "...                                           ...   \n",
              "56994             LENCANA MERAH Tepung Terigu 1kg   \n",
              "56995             LENCANA MERAH Tepung Terigu 1kg   \n",
              "56996             LENCANA MERAH Tepung Terigu 1kg   \n",
              "56997        DJI SAM SOE 234 Magnum Mild Blue 16s   \n",
              "56998                            POPSO Bakso  Cup   \n",
              "\n",
              "                          cat_name     price  product_quantity  \\\n",
              "0      Automotive & Transportation   70000.0                11   \n",
              "1          Beauty, Sport & Fashion  106900.0                11   \n",
              "2          Beauty, Sport & Fashion  106900.0                11   \n",
              "3          Beauty, Sport & Fashion  106900.0                11   \n",
              "4          Beauty, Sport & Fashion  106900.0                11   \n",
              "...                            ...       ...               ...   \n",
              "56994           Agriculture & Food   20000.0                11   \n",
              "56995           Agriculture & Food   20000.0                11   \n",
              "56996           Agriculture & Food   20000.0                11   \n",
              "56997           Agriculture & Food   29000.0                11   \n",
              "56998           Agriculture & Food   32000.0                25   \n",
              "\n",
              "       percentage_commission payment_method  ...         received_datetime  \\\n",
              "0                        0.0            BCA  ... 2018-01-31 22:05:59+00:00   \n",
              "1                        0.0            BCA  ... 2018-03-17 17:33:12+00:00   \n",
              "2                        0.0        Mandiri  ... 2018-02-03 13:48:44+00:00   \n",
              "3                        0.0            BNI  ... 2018-01-22 05:12:20+00:00   \n",
              "4                        0.0    Credit Card  ... 2018-01-16 23:00:51+00:00   \n",
              "...                      ...            ...  ...                       ...   \n",
              "56994                    3.0  Ralali Wallet  ... 2020-03-17 08:12:00+00:00   \n",
              "56995                    3.0  Ralali Wallet  ... 2020-02-11 00:38:55+00:00   \n",
              "56996                    3.0  Ralali Wallet  ... 2020-02-11 00:37:00+00:00   \n",
              "56997                    3.0  Ralali Wallet  ... 2020-03-19 22:07:14+00:00   \n",
              "56998                    2.5    Credit Card  ...                       NaT   \n",
              "\n",
              "               settled_datetime  \\\n",
              "0     2018-02-02 11:11:11+00:00   \n",
              "1     2018-03-19 17:49:29+00:00   \n",
              "2     2018-02-05 11:37:35+00:00   \n",
              "3     2018-01-23 10:55:22+00:00   \n",
              "4     2018-01-18 17:50:05+00:00   \n",
              "...                         ...   \n",
              "56994 2020-03-18 19:16:18+00:00   \n",
              "56995 2020-02-12 06:22:14+00:00   \n",
              "56996 2020-02-12 06:22:14+00:00   \n",
              "56997 2020-03-20 15:17:44+00:00   \n",
              "56998                       NaT   \n",
              "\n",
              "                                                buyer_id  \\\n",
              "0      4bS8qFKVzWcs1YbiN1AH69caS28RLKfoD9Sw5mhywcKLRy...   \n",
              "1      gIMTtuVLpqhxr1vGQUX7z/9BsLfyuIEsw9adNH5RFCmJoJ...   \n",
              "2      iAM0QYDk/thCNhc2NLA5XjAH/wCIcbwgWXK3DpWRfOiohn...   \n",
              "3      VNegkSBXo6FoVwuapctbPQhm52bDXytLzTfg4jeLYvUYZC...   \n",
              "4      u+5n7OUaW4Az4ltUSf1kdFhb7aAbCYuQyNDuEDAQNucW5x...   \n",
              "...                                                  ...   \n",
              "56994  XS4ZXBjDD6JvT8hoJkwLFFWDEzJRDxfjXEngv1L5OstM7e...   \n",
              "56995  yY7Y1kBC0st9xepDZscxyihC+92wnAgt7Su6zegHLKgmRs...   \n",
              "56996  ng21FCXnAWPBVkw3e+YokohKEiKwUeMP72oa+NK03SZkpO...   \n",
              "56997  t+v4QgAgyKqZXSdxZgvhav7+7rtoGQHNRc5NXw4WYklfLA...   \n",
              "56998  vBQDuU8e5XvuPIXHvD7m4dOdZjSCdIBzWhYjRLeVYkahUN...   \n",
              "\n",
              "                                               seller_id order_source  \\\n",
              "0      +4nL+1ptdvhVGUOs4XRPWrfX7udjVZHeHD5QumR31VzOzx...      website   \n",
              "1      +7J29u1/MoqIdao5nXk+a154wh0xn5yHpNAlO+cMMagBg3...      website   \n",
              "2      +7J29u1/MoqIdao5nXk+a154wh0xn5yHpNAlO+cMMagBg3...      website   \n",
              "3      +7J29u1/MoqIdao5nXk+a154wh0xn5yHpNAlO+cMMagBg3...      website   \n",
              "4      +7J29u1/MoqIdao5nXk+a154wh0xn5yHpNAlO+cMMagBg3...      website   \n",
              "...                                                  ...          ...   \n",
              "56994  zur/s7B3E92bxS8FkBL9Dx6HA7lKKWGGzSq1qu4HPScnu9...      Android   \n",
              "56995  zur/s7B3E92bxS8FkBL9Dx6HA7lKKWGGzSq1qu4HPScnu9...      Android   \n",
              "56996  zur/s7B3E92bxS8FkBL9Dx6HA7lKKWGGzSq1qu4HPScnu9...      Android   \n",
              "56997  zur/s7B3E92bxS8FkBL9Dx6HA7lKKWGGzSq1qu4HPScnu9...      Android   \n",
              "56998  zx1OMM/JHQ1SNnRi9hsIvVkI1E03RE6dcgWrx9yKbVOCGR...      website   \n",
              "\n",
              "      buyer_province_name    buyer_city_name      logistic_name        gmv  \\\n",
              "0                  Banten          Tangerang        SAP Express   770000.0   \n",
              "1              Jawa Barat            Bandung               TIKI  1175900.0   \n",
              "2             DKI Jakarta      Jakarta Pusat               TIKI  1175900.0   \n",
              "3                  Banten          Tangerang               TIKI  1175900.0   \n",
              "4             DKI Jakarta      Jakarta Barat                JNE  1175900.0   \n",
              "...                   ...                ...                ...        ...   \n",
              "56994      Kepulauan Riau          Pekanbaru  Free Ongkir Lokal   220000.0   \n",
              "56995                Riau          Pekanbaru  Free Ongkir Lokal   220000.0   \n",
              "56996                Riau          Pekanbaru  Free Ongkir Lokal   220000.0   \n",
              "56997      Kepulauan Riau          Pekanbaru  Free Ongkir Lokal   319000.0   \n",
              "56998              Banten  Tangerang Selatan       Ralali Kargo   800000.0   \n",
              "\n",
              "         revenue  \n",
              "0            0.0  \n",
              "1            0.0  \n",
              "2            0.0  \n",
              "3            0.0  \n",
              "4            0.0  \n",
              "...          ...  \n",
              "56994   660000.0  \n",
              "56995   660000.0  \n",
              "56996   660000.0  \n",
              "56997   957000.0  \n",
              "56998  2000000.0  \n",
              "\n",
              "[56999 rows x 23 columns]"
            ],
            "text/html": [
              "\n",
              "  <div id=\"df-47f510fa-30ba-4f65-b208-5af518e0a3d5\">\n",
              "    <div class=\"colab-df-container\">\n",
              "      <div>\n",
              "<style scoped>\n",
              "    .dataframe tbody tr th:only-of-type {\n",
              "        vertical-align: middle;\n",
              "    }\n",
              "\n",
              "    .dataframe tbody tr th {\n",
              "        vertical-align: top;\n",
              "    }\n",
              "\n",
              "    .dataframe thead th {\n",
              "        text-align: right;\n",
              "    }\n",
              "</style>\n",
              "<table border=\"1\" class=\"dataframe\">\n",
              "  <thead>\n",
              "    <tr style=\"text-align: right;\">\n",
              "      <th></th>\n",
              "      <th>order_id</th>\n",
              "      <th>oder_detail_id</th>\n",
              "      <th>order_datetime</th>\n",
              "      <th>item_id</th>\n",
              "      <th>item_name</th>\n",
              "      <th>cat_name</th>\n",
              "      <th>price</th>\n",
              "      <th>product_quantity</th>\n",
              "      <th>percentage_commission</th>\n",
              "      <th>payment_method</th>\n",
              "      <th>...</th>\n",
              "      <th>received_datetime</th>\n",
              "      <th>settled_datetime</th>\n",
              "      <th>buyer_id</th>\n",
              "      <th>seller_id</th>\n",
              "      <th>order_source</th>\n",
              "      <th>buyer_province_name</th>\n",
              "      <th>buyer_city_name</th>\n",
              "      <th>logistic_name</th>\n",
              "      <th>gmv</th>\n",
              "      <th>revenue</th>\n",
              "    </tr>\n",
              "  </thead>\n",
              "  <tbody>\n",
              "    <tr>\n",
              "      <th>0</th>\n",
              "      <td>vWtd1y0/6huGN2/XeVvDsuZQoDwatiNmUATDyiR+T176ru...</td>\n",
              "      <td>5F+Im4Nc+NUSZqLbx+X1eDrweIh5M0spYtS/UdcVA7aaJ+...</td>\n",
              "      <td>2018-01-24 23:08:46+00:00</td>\n",
              "      <td>FiwEDZtpOyYWv3+YJlwOSL3tBRSsNNNNDddisUbym/nJPF...</td>\n",
              "      <td>IC LOCK Alarm Sepeda Motor Tipe 1L 1 Sandi</td>\n",
              "      <td>Automotive &amp; Transportation</td>\n",
              "      <td>70000.0</td>\n",
              "      <td>11</td>\n",
              "      <td>0.0</td>\n",
              "      <td>BCA</td>\n",
              "      <td>...</td>\n",
              "      <td>2018-01-31 22:05:59+00:00</td>\n",
              "      <td>2018-02-02 11:11:11+00:00</td>\n",
              "      <td>4bS8qFKVzWcs1YbiN1AH69caS28RLKfoD9Sw5mhywcKLRy...</td>\n",
              "      <td>+4nL+1ptdvhVGUOs4XRPWrfX7udjVZHeHD5QumR31VzOzx...</td>\n",
              "      <td>website</td>\n",
              "      <td>Banten</td>\n",
              "      <td>Tangerang</td>\n",
              "      <td>SAP Express</td>\n",
              "      <td>770000.0</td>\n",
              "      <td>0.0</td>\n",
              "    </tr>\n",
              "    <tr>\n",
              "      <th>1</th>\n",
              "      <td>hYo6AokZ1bqrZlrc/eMvqqaODQGiv5/TmUFtzkYTuY5jDZ...</td>\n",
              "      <td>X1hbQ/Sk8go6uIIMeGCtodTT1RHe747Bfix4NRcsVSMVMw...</td>\n",
              "      <td>2018-03-12 15:18:13+00:00</td>\n",
              "      <td>GYSx7Gu3Wy/DC3c/QEHBotPs/OIE1QDfKwTyWqEHhb626J...</td>\n",
              "      <td>Sleeping Bag Ultralight Packing</td>\n",
              "      <td>Beauty, Sport &amp; Fashion</td>\n",
              "      <td>106900.0</td>\n",
              "      <td>11</td>\n",
              "      <td>0.0</td>\n",
              "      <td>BCA</td>\n",
              "      <td>...</td>\n",
              "      <td>2018-03-17 17:33:12+00:00</td>\n",
              "      <td>2018-03-19 17:49:29+00:00</td>\n",
              "      <td>gIMTtuVLpqhxr1vGQUX7z/9BsLfyuIEsw9adNH5RFCmJoJ...</td>\n",
              "      <td>+7J29u1/MoqIdao5nXk+a154wh0xn5yHpNAlO+cMMagBg3...</td>\n",
              "      <td>website</td>\n",
              "      <td>Jawa Barat</td>\n",
              "      <td>Bandung</td>\n",
              "      <td>TIKI</td>\n",
              "      <td>1175900.0</td>\n",
              "      <td>0.0</td>\n",
              "    </tr>\n",
              "    <tr>\n",
              "      <th>2</th>\n",
              "      <td>aZYLoHJEF14rPOHWczVrCzZHEbwv72w9yVEOtCVNQoeA3+...</td>\n",
              "      <td>GR22NQrEEEj8H0xYK5+06Ivz/pw7kkM6PRfduolAeb2waS...</td>\n",
              "      <td>2018-02-01 20:16:19+00:00</td>\n",
              "      <td>GYSx7Gu3Wy/DC3c/QEHBotPs/OIE1QDfKwTyWqEHhb626J...</td>\n",
              "      <td>Sleeping Bag Ultralight Packing</td>\n",
              "      <td>Beauty, Sport &amp; Fashion</td>\n",
              "      <td>106900.0</td>\n",
              "      <td>11</td>\n",
              "      <td>0.0</td>\n",
              "      <td>Mandiri</td>\n",
              "      <td>...</td>\n",
              "      <td>2018-02-03 13:48:44+00:00</td>\n",
              "      <td>2018-02-05 11:37:35+00:00</td>\n",
              "      <td>iAM0QYDk/thCNhc2NLA5XjAH/wCIcbwgWXK3DpWRfOiohn...</td>\n",
              "      <td>+7J29u1/MoqIdao5nXk+a154wh0xn5yHpNAlO+cMMagBg3...</td>\n",
              "      <td>website</td>\n",
              "      <td>DKI Jakarta</td>\n",
              "      <td>Jakarta Pusat</td>\n",
              "      <td>TIKI</td>\n",
              "      <td>1175900.0</td>\n",
              "      <td>0.0</td>\n",
              "    </tr>\n",
              "    <tr>\n",
              "      <th>3</th>\n",
              "      <td>aYEM8mBNtgtgtwiXy8o7KoVr7dD8S6remri7NnvTgFprLo...</td>\n",
              "      <td>I224XW2xDNCFAAe6UMFftC9alJNKABfKg9GKaNlLaYKyJI...</td>\n",
              "      <td>2018-01-15 15:49:58+00:00</td>\n",
              "      <td>GYSx7Gu3Wy/DC3c/QEHBotPs/OIE1QDfKwTyWqEHhb626J...</td>\n",
              "      <td>Sleeping Bag Ultralight Packing</td>\n",
              "      <td>Beauty, Sport &amp; Fashion</td>\n",
              "      <td>106900.0</td>\n",
              "      <td>11</td>\n",
              "      <td>0.0</td>\n",
              "      <td>BNI</td>\n",
              "      <td>...</td>\n",
              "      <td>2018-01-22 05:12:20+00:00</td>\n",
              "      <td>2018-01-23 10:55:22+00:00</td>\n",
              "      <td>VNegkSBXo6FoVwuapctbPQhm52bDXytLzTfg4jeLYvUYZC...</td>\n",
              "      <td>+7J29u1/MoqIdao5nXk+a154wh0xn5yHpNAlO+cMMagBg3...</td>\n",
              "      <td>website</td>\n",
              "      <td>Banten</td>\n",
              "      <td>Tangerang</td>\n",
              "      <td>TIKI</td>\n",
              "      <td>1175900.0</td>\n",
              "      <td>0.0</td>\n",
              "    </tr>\n",
              "    <tr>\n",
              "      <th>4</th>\n",
              "      <td>fLtNp9wUwKF9DdhOTfsq9mBjgBiPGTYdIVIthaxC5klNh8...</td>\n",
              "      <td>4o+vKqCoSfwwEga/7WeHhYwpvRT9NN7G+u2yhnQuAiv+72...</td>\n",
              "      <td>2018-01-15 15:01:33+00:00</td>\n",
              "      <td>GYSx7Gu3Wy/DC3c/QEHBotPs/OIE1QDfKwTyWqEHhb626J...</td>\n",
              "      <td>Sleeping Bag Ultralight Packing</td>\n",
              "      <td>Beauty, Sport &amp; Fashion</td>\n",
              "      <td>106900.0</td>\n",
              "      <td>11</td>\n",
              "      <td>0.0</td>\n",
              "      <td>Credit Card</td>\n",
              "      <td>...</td>\n",
              "      <td>2018-01-16 23:00:51+00:00</td>\n",
              "      <td>2018-01-18 17:50:05+00:00</td>\n",
              "      <td>u+5n7OUaW4Az4ltUSf1kdFhb7aAbCYuQyNDuEDAQNucW5x...</td>\n",
              "      <td>+7J29u1/MoqIdao5nXk+a154wh0xn5yHpNAlO+cMMagBg3...</td>\n",
              "      <td>website</td>\n",
              "      <td>DKI Jakarta</td>\n",
              "      <td>Jakarta Barat</td>\n",
              "      <td>JNE</td>\n",
              "      <td>1175900.0</td>\n",
              "      <td>0.0</td>\n",
              "    </tr>\n",
              "    <tr>\n",
              "      <th>...</th>\n",
              "      <td>...</td>\n",
              "      <td>...</td>\n",
              "      <td>...</td>\n",
              "      <td>...</td>\n",
              "      <td>...</td>\n",
              "      <td>...</td>\n",
              "      <td>...</td>\n",
              "      <td>...</td>\n",
              "      <td>...</td>\n",
              "      <td>...</td>\n",
              "      <td>...</td>\n",
              "      <td>...</td>\n",
              "      <td>...</td>\n",
              "      <td>...</td>\n",
              "      <td>...</td>\n",
              "      <td>...</td>\n",
              "      <td>...</td>\n",
              "      <td>...</td>\n",
              "      <td>...</td>\n",
              "      <td>...</td>\n",
              "      <td>...</td>\n",
              "    </tr>\n",
              "    <tr>\n",
              "      <th>56994</th>\n",
              "      <td>hMNVJu7pe/56r9IMer9EOhMaspNepjbOjY+yzwuxhbyMeX...</td>\n",
              "      <td>ubvMK0JvvfzZqdH7NPiZDJfMtaWZF0JMKJ0flm/n/BrYXj...</td>\n",
              "      <td>2020-03-17 08:11:07+00:00</td>\n",
              "      <td>qmY+fo95UnBw5KEdLm+TUDGqv9YHywZCrCDPqFHXNMmO3y...</td>\n",
              "      <td>LENCANA MERAH Tepung Terigu 1kg</td>\n",
              "      <td>Agriculture &amp; Food</td>\n",
              "      <td>20000.0</td>\n",
              "      <td>11</td>\n",
              "      <td>3.0</td>\n",
              "      <td>Ralali Wallet</td>\n",
              "      <td>...</td>\n",
              "      <td>2020-03-17 08:12:00+00:00</td>\n",
              "      <td>2020-03-18 19:16:18+00:00</td>\n",
              "      <td>XS4ZXBjDD6JvT8hoJkwLFFWDEzJRDxfjXEngv1L5OstM7e...</td>\n",
              "      <td>zur/s7B3E92bxS8FkBL9Dx6HA7lKKWGGzSq1qu4HPScnu9...</td>\n",
              "      <td>Android</td>\n",
              "      <td>Kepulauan Riau</td>\n",
              "      <td>Pekanbaru</td>\n",
              "      <td>Free Ongkir Lokal</td>\n",
              "      <td>220000.0</td>\n",
              "      <td>660000.0</td>\n",
              "    </tr>\n",
              "    <tr>\n",
              "      <th>56995</th>\n",
              "      <td>Kyr1swAjeR37xIsuF5FDUbp7QtkHWpbNByLa/Smk4It3Jv...</td>\n",
              "      <td>GEn8zsO7m+zvxgj7NUqs9HBwHFOfpA+YY1sbpRq+r5X12f...</td>\n",
              "      <td>2020-01-28 00:57:59+00:00</td>\n",
              "      <td>qmY+fo95UnBw5KEdLm+TUDGqv9YHywZCrCDPqFHXNMmO3y...</td>\n",
              "      <td>LENCANA MERAH Tepung Terigu 1kg</td>\n",
              "      <td>Agriculture &amp; Food</td>\n",
              "      <td>20000.0</td>\n",
              "      <td>11</td>\n",
              "      <td>3.0</td>\n",
              "      <td>Ralali Wallet</td>\n",
              "      <td>...</td>\n",
              "      <td>2020-02-11 00:38:55+00:00</td>\n",
              "      <td>2020-02-12 06:22:14+00:00</td>\n",
              "      <td>yY7Y1kBC0st9xepDZscxyihC+92wnAgt7Su6zegHLKgmRs...</td>\n",
              "      <td>zur/s7B3E92bxS8FkBL9Dx6HA7lKKWGGzSq1qu4HPScnu9...</td>\n",
              "      <td>Android</td>\n",
              "      <td>Riau</td>\n",
              "      <td>Pekanbaru</td>\n",
              "      <td>Free Ongkir Lokal</td>\n",
              "      <td>220000.0</td>\n",
              "      <td>660000.0</td>\n",
              "    </tr>\n",
              "    <tr>\n",
              "      <th>56996</th>\n",
              "      <td>vUVI5D2/Fkw+uJCP/prvGKQR7pS6ysgu+YBpy7XKD0LDfI...</td>\n",
              "      <td>wgTA6Nj4X0Sg+468a/zs6g41zZhMOzhScQA4z9kkRSJ8Mt...</td>\n",
              "      <td>2020-01-28 00:51:48+00:00</td>\n",
              "      <td>qmY+fo95UnBw5KEdLm+TUDGqv9YHywZCrCDPqFHXNMmO3y...</td>\n",
              "      <td>LENCANA MERAH Tepung Terigu 1kg</td>\n",
              "      <td>Agriculture &amp; Food</td>\n",
              "      <td>20000.0</td>\n",
              "      <td>11</td>\n",
              "      <td>3.0</td>\n",
              "      <td>Ralali Wallet</td>\n",
              "      <td>...</td>\n",
              "      <td>2020-02-11 00:37:00+00:00</td>\n",
              "      <td>2020-02-12 06:22:14+00:00</td>\n",
              "      <td>ng21FCXnAWPBVkw3e+YokohKEiKwUeMP72oa+NK03SZkpO...</td>\n",
              "      <td>zur/s7B3E92bxS8FkBL9Dx6HA7lKKWGGzSq1qu4HPScnu9...</td>\n",
              "      <td>Android</td>\n",
              "      <td>Riau</td>\n",
              "      <td>Pekanbaru</td>\n",
              "      <td>Free Ongkir Lokal</td>\n",
              "      <td>220000.0</td>\n",
              "      <td>660000.0</td>\n",
              "    </tr>\n",
              "    <tr>\n",
              "      <th>56997</th>\n",
              "      <td>9l6zCubPWS1YrZp00WRBFOxRqWaqOid00L+C28qt8PhjEj...</td>\n",
              "      <td>r3AHlSaQGMTk5zYJsU95OiO4BpjpQqupMgsDqux6QOULFU...</td>\n",
              "      <td>2020-03-19 21:44:49+00:00</td>\n",
              "      <td>e8ZS0UrAzdLUpfXhh33Xx3UUWULCWDHNWMe0h04Qi6SBzT...</td>\n",
              "      <td>DJI SAM SOE 234 Magnum Mild Blue 16s</td>\n",
              "      <td>Agriculture &amp; Food</td>\n",
              "      <td>29000.0</td>\n",
              "      <td>11</td>\n",
              "      <td>3.0</td>\n",
              "      <td>Ralali Wallet</td>\n",
              "      <td>...</td>\n",
              "      <td>2020-03-19 22:07:14+00:00</td>\n",
              "      <td>2020-03-20 15:17:44+00:00</td>\n",
              "      <td>t+v4QgAgyKqZXSdxZgvhav7+7rtoGQHNRc5NXw4WYklfLA...</td>\n",
              "      <td>zur/s7B3E92bxS8FkBL9Dx6HA7lKKWGGzSq1qu4HPScnu9...</td>\n",
              "      <td>Android</td>\n",
              "      <td>Kepulauan Riau</td>\n",
              "      <td>Pekanbaru</td>\n",
              "      <td>Free Ongkir Lokal</td>\n",
              "      <td>319000.0</td>\n",
              "      <td>957000.0</td>\n",
              "    </tr>\n",
              "    <tr>\n",
              "      <th>56998</th>\n",
              "      <td>0b8ttj22Y4JOZSMxrgXb0E4pd5MD7e+Pmy8Zk5rrK5NssN...</td>\n",
              "      <td>K0G2ddYGBXc+y80wtiUDrEvnKsYgwjntEVvmtOvFCzwYkN...</td>\n",
              "      <td>2020-01-02 14:18:46+00:00</td>\n",
              "      <td>Y4yb++f39blRbkJpr0fnt0U4nguBFWqMTXhcNAH73+PqJe...</td>\n",
              "      <td>POPSO Bakso  Cup</td>\n",
              "      <td>Agriculture &amp; Food</td>\n",
              "      <td>32000.0</td>\n",
              "      <td>25</td>\n",
              "      <td>2.5</td>\n",
              "      <td>Credit Card</td>\n",
              "      <td>...</td>\n",
              "      <td>NaT</td>\n",
              "      <td>NaT</td>\n",
              "      <td>vBQDuU8e5XvuPIXHvD7m4dOdZjSCdIBzWhYjRLeVYkahUN...</td>\n",
              "      <td>zx1OMM/JHQ1SNnRi9hsIvVkI1E03RE6dcgWrx9yKbVOCGR...</td>\n",
              "      <td>website</td>\n",
              "      <td>Banten</td>\n",
              "      <td>Tangerang Selatan</td>\n",
              "      <td>Ralali Kargo</td>\n",
              "      <td>800000.0</td>\n",
              "      <td>2000000.0</td>\n",
              "    </tr>\n",
              "  </tbody>\n",
              "</table>\n",
              "<p>56999 rows × 23 columns</p>\n",
              "</div>\n",
              "      <button class=\"colab-df-convert\" onclick=\"convertToInteractive('df-47f510fa-30ba-4f65-b208-5af518e0a3d5')\"\n",
              "              title=\"Convert this dataframe to an interactive table.\"\n",
              "              style=\"display:none;\">\n",
              "        \n",
              "  <svg xmlns=\"http://www.w3.org/2000/svg\" height=\"24px\"viewBox=\"0 0 24 24\"\n",
              "       width=\"24px\">\n",
              "    <path d=\"M0 0h24v24H0V0z\" fill=\"none\"/>\n",
              "    <path d=\"M18.56 5.44l.94 2.06.94-2.06 2.06-.94-2.06-.94-.94-2.06-.94 2.06-2.06.94zm-11 1L8.5 8.5l.94-2.06 2.06-.94-2.06-.94L8.5 2.5l-.94 2.06-2.06.94zm10 10l.94 2.06.94-2.06 2.06-.94-2.06-.94-.94-2.06-.94 2.06-2.06.94z\"/><path d=\"M17.41 7.96l-1.37-1.37c-.4-.4-.92-.59-1.43-.59-.52 0-1.04.2-1.43.59L10.3 9.45l-7.72 7.72c-.78.78-.78 2.05 0 2.83L4 21.41c.39.39.9.59 1.41.59.51 0 1.02-.2 1.41-.59l7.78-7.78 2.81-2.81c.8-.78.8-2.07 0-2.86zM5.41 20L4 18.59l7.72-7.72 1.47 1.35L5.41 20z\"/>\n",
              "  </svg>\n",
              "      </button>\n",
              "      \n",
              "  <style>\n",
              "    .colab-df-container {\n",
              "      display:flex;\n",
              "      flex-wrap:wrap;\n",
              "      gap: 12px;\n",
              "    }\n",
              "\n",
              "    .colab-df-convert {\n",
              "      background-color: #E8F0FE;\n",
              "      border: none;\n",
              "      border-radius: 50%;\n",
              "      cursor: pointer;\n",
              "      display: none;\n",
              "      fill: #1967D2;\n",
              "      height: 32px;\n",
              "      padding: 0 0 0 0;\n",
              "      width: 32px;\n",
              "    }\n",
              "\n",
              "    .colab-df-convert:hover {\n",
              "      background-color: #E2EBFA;\n",
              "      box-shadow: 0px 1px 2px rgba(60, 64, 67, 0.3), 0px 1px 3px 1px rgba(60, 64, 67, 0.15);\n",
              "      fill: #174EA6;\n",
              "    }\n",
              "\n",
              "    [theme=dark] .colab-df-convert {\n",
              "      background-color: #3B4455;\n",
              "      fill: #D2E3FC;\n",
              "    }\n",
              "\n",
              "    [theme=dark] .colab-df-convert:hover {\n",
              "      background-color: #434B5C;\n",
              "      box-shadow: 0px 1px 3px 1px rgba(0, 0, 0, 0.15);\n",
              "      filter: drop-shadow(0px 1px 2px rgba(0, 0, 0, 0.3));\n",
              "      fill: #FFFFFF;\n",
              "    }\n",
              "  </style>\n",
              "\n",
              "      <script>\n",
              "        const buttonEl =\n",
              "          document.querySelector('#df-47f510fa-30ba-4f65-b208-5af518e0a3d5 button.colab-df-convert');\n",
              "        buttonEl.style.display =\n",
              "          google.colab.kernel.accessAllowed ? 'block' : 'none';\n",
              "\n",
              "        async function convertToInteractive(key) {\n",
              "          const element = document.querySelector('#df-47f510fa-30ba-4f65-b208-5af518e0a3d5');\n",
              "          const dataTable =\n",
              "            await google.colab.kernel.invokeFunction('convertToInteractive',\n",
              "                                                     [key], {});\n",
              "          if (!dataTable) return;\n",
              "\n",
              "          const docLinkHtml = 'Like what you see? Visit the ' +\n",
              "            '<a target=\"_blank\" href=https://colab.research.google.com/notebooks/data_table.ipynb>data table notebook</a>'\n",
              "            + ' to learn more about interactive tables.';\n",
              "          element.innerHTML = '';\n",
              "          dataTable['output_type'] = 'display_data';\n",
              "          await google.colab.output.renderOutput(dataTable, element);\n",
              "          const docLink = document.createElement('div');\n",
              "          docLink.innerHTML = docLinkHtml;\n",
              "          element.appendChild(docLink);\n",
              "        }\n",
              "      </script>\n",
              "    </div>\n",
              "  </div>\n",
              "  "
            ]
          },
          "metadata": {},
          "execution_count": 146
        }
      ]
    },
    {
      "cell_type": "code",
      "source": [],
      "metadata": {
        "id": "kFTUQqm9S6bE"
      },
      "execution_count": null,
      "outputs": []
    },
    {
      "cell_type": "markdown",
      "metadata": {
        "id": "fbASL_spsbI2"
      },
      "source": [
        "## Transform into CSV"
      ]
    },
    {
      "cell_type": "code",
      "execution_count": null,
      "metadata": {
        "id": "SRRmoL-cfz9Q"
      },
      "outputs": [],
      "source": [
        "df.to_csv(r'gpbl_ralali.csv', index=None,header=True)"
      ]
    }
  ],
  "metadata": {
    "colab": {
      "collapsed_sections": [
        "A58L9p_V4eYM",
        "gfQwHGou4jPm",
        "wUjggCo-2Xm4",
        "1UrKalsfPNBn",
        "-4sro6fs2dG3"
      ],
      "provenance": []
    },
    "kernelspec": {
      "display_name": "Python 3",
      "name": "python3"
    },
    "language_info": {
      "name": "python"
    }
  },
  "nbformat": 4,
  "nbformat_minor": 0
}
